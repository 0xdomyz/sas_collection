{
 "cells": [
  {
   "cell_type": "code",
   "execution_count": 10,
   "metadata": {},
   "outputs": [
    {
     "name": "stdout",
     "output_type": "stream",
     "text": [
      "Using SAS Config named: oda\n",
      "SAS Connection established. Subprocess id is 10532\n",
      "\n"
     ]
    }
   ],
   "source": [
    "import saspy\n",
    "sas = saspy.SASsession()"
   ]
  },
  {
   "cell_type": "code",
   "execution_count": null,
   "metadata": {},
   "outputs": [],
   "source": [
    "sas.submitLST(f\"\"\"\n",
    "PROC SQL;\n",
    "    CREATE TABLE new_table AS\n",
    "    SELECT \n",
    "        case when age LT 14 then '< 14'\n",
    "                when age GE 14 then '>= 14'\n",
    "                else 'MISSING'\n",
    "        end as age_group1,\n",
    "        case \n",
    "            when age LE 14 then '<= 14'\n",
    "            when age GT 14 then '> 14'\n",
    "            else 'MISSING'\n",
    "        end as age_group2,\n",
    "        case when age EQ 14 then '14'\n",
    "            else 'NOT 14'\n",
    "        end as age_group3,\n",
    "        case when age NE 14 then 'NOT 14'\n",
    "            else '14'\n",
    "        end as age_group4\n",
    "    FROM sashelp.class;\n",
    "QUIT;\n",
    "run;\n",
    "\"\"\")"
   ]
  },
  {
   "cell_type": "code",
   "execution_count": null,
   "metadata": {},
   "outputs": [],
   "source": []
  },
  {
   "cell_type": "code",
   "execution_count": null,
   "metadata": {},
   "outputs": [],
   "source": []
  },
  {
   "cell_type": "code",
   "execution_count": null,
   "metadata": {},
   "outputs": [],
   "source": []
  }
 ],
 "metadata": {
  "kernelspec": {
   "display_name": "Python 3",
   "language": "python",
   "name": "python3"
  },
  "language_info": {
   "codemirror_mode": {
    "name": "ipython",
    "version": 3
   },
   "file_extension": ".py",
   "mimetype": "text/x-python",
   "name": "python",
   "nbconvert_exporter": "python",
   "pygments_lexer": "ipython3",
   "version": "3.12.1"
  }
 },
 "nbformat": 4,
 "nbformat_minor": 2
}
