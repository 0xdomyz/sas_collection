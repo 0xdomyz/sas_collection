{
 "cells": [
  {
   "cell_type": "code",
   "execution_count": 1,
   "metadata": {},
   "outputs": [
    {
     "name": "stdout",
     "output_type": "stream",
     "text": [
      "Using SAS Config named: oda\n",
      "SAS Connection established. Subprocess id is 13928\n",
      "\n"
     ]
    }
   ],
   "source": [
    "import saspy\n",
    "sas = saspy.SASsession()"
   ]
  },
  {
   "cell_type": "markdown",
   "metadata": {},
   "source": [
    "### MLOGIC: Controls the display of SAS macro statements in the SAS log.\n"
   ]
  },
  {
   "cell_type": "code",
   "execution_count": 6,
   "metadata": {},
   "outputs": [
    {
     "name": "stdout",
     "output_type": "stream",
     "text": [
      "\n",
      "13                                                         The SAS System                          Monday, June 10, 2024 12:28:00 PM\n",
      "\n",
      "97         ods listing close;ods html5 (id=saspy_internal) file=_tomods1 options(bitmap_mode='inline') device=svg style=Plateau; ods\n",
      "97       !  graphics on / outputfmt=png;\n",
      "98         \n",
      "99         \n",
      "100        options nomlogic;\n",
      "101        \n",
      "102        %macro mac(input);\n",
      "103            %put Hello &input.!;\n",
      "104        %mend mac;\n",
      "105        \n",
      "106        %mac(input=World);\n",
      "Hello World!\n",
      "107        \n",
      "108        \n",
      "109        \n",
      "110        \n",
      "111        ods html5 (id=saspy_internal) close;ods listing;\n",
      "112        \n",
      "\n",
      "14                                                         The SAS System                          Monday, June 10, 2024 12:28:00 PM\n",
      "\n",
      "113        \n"
     ]
    },
    {
     "data": {
      "text/html": [],
      "text/plain": [
       "<IPython.core.display.HTML object>"
      ]
     },
     "metadata": {},
     "output_type": "display_data"
    }
   ],
   "source": [
    "sas.submitLST(\n",
    "f\"\"\"\n",
    "options nomlogic;\n",
    "\n",
    "%macro mac(input);\n",
    "    %put Hello &input.!;\n",
    "%mend mac;\n",
    "\n",
    "%mac(input=World);\n",
    "\n",
    "\"\"\", method=\"logandlist\")"
   ]
  },
  {
   "cell_type": "code",
   "execution_count": 10,
   "metadata": {},
   "outputs": [
    {
     "name": "stdout",
     "output_type": "stream",
     "text": [
      "\n",
      "21                                                         The SAS System                          Monday, June 10, 2024 12:28:00 PM\n",
      "\n",
      "167        ods listing close;ods html5 (id=saspy_internal) file=_tomods1 options(bitmap_mode='inline') device=svg style=Plateau; ods\n",
      "167      !  graphics on / outputfmt=png;\n",
      "168        \n",
      "169        \n",
      "170        options mlogic;\n",
      "171        \n",
      "172        %macro mac(input);\n",
      "173            %put Hello &input.!;\n",
      "174        %mend mac;\n",
      "175        \n",
      "176        %mac(input=World);\n",
      "MLOGIC(MAC):  Beginning execution.\n",
      "MLOGIC(MAC):  Parameter INPUT has value World\n",
      "MLOGIC(MAC):  %PUT Hello &input.!\n",
      "SYMBOLGEN:  Macro variable INPUT resolves to World\n",
      "Hello World!\n",
      "MLOGIC(MAC):  Ending execution.\n",
      "177        \n",
      "178        options nomlogic;\n",
      "179        \n",
      "180        \n",
      "181        \n",
      "182        ods html5 (id=saspy_internal) close;ods listing;\n",
      "183        \n",
      "\n",
      "22                                                         The SAS System                          Monday, June 10, 2024 12:28:00 PM\n",
      "\n",
      "184        \n"
     ]
    },
    {
     "data": {
      "text/html": [],
      "text/plain": [
       "<IPython.core.display.HTML object>"
      ]
     },
     "metadata": {},
     "output_type": "display_data"
    }
   ],
   "source": [
    "sas.submitLST(\n",
    "f\"\"\"\n",
    "options mlogic;\n",
    "\n",
    "%macro mac(input);\n",
    "    %put Hello &input.!;\n",
    "%mend mac;\n",
    "\n",
    "%mac(input=World);\n",
    "\n",
    "options nomlogic;\n",
    "\"\"\", method=\"logandlist\")"
   ]
  },
  {
   "cell_type": "markdown",
   "metadata": {},
   "source": [
    "### SYMBOLGEN: Controls the display of macro variable values in the SAS log.\n"
   ]
  },
  {
   "cell_type": "code",
   "execution_count": 8,
   "metadata": {},
   "outputs": [
    {
     "name": "stdout",
     "output_type": "stream",
     "text": [
      "\n",
      "17                                                         The SAS System                          Monday, June 10, 2024 12:28:00 PM\n",
      "\n",
      "135        ods listing close;ods html5 (id=saspy_internal) file=_tomods1 options(bitmap_mode='inline') device=svg style=Plateau; ods\n",
      "135      !  graphics on / outputfmt=png;\n",
      "136        \n",
      "137        \n",
      "138        options nosymbolgen;\n",
      "139        \n",
      "140        %let path = /folders/myfolders/;\n",
      "141        %put &path./data.csv;\n",
      "/folders/myfolders//data.csv\n",
      "142        \n",
      "143        \n",
      "144        \n",
      "145        \n",
      "146        ods html5 (id=saspy_internal) close;ods listing;\n",
      "147        \n",
      "\n",
      "18                                                         The SAS System                          Monday, June 10, 2024 12:28:00 PM\n",
      "\n",
      "148        \n"
     ]
    },
    {
     "data": {
      "text/html": [],
      "text/plain": [
       "<IPython.core.display.HTML object>"
      ]
     },
     "metadata": {},
     "output_type": "display_data"
    }
   ],
   "source": [
    "sas.submitLST(\n",
    "f\"\"\"\n",
    "options nosymbolgen;\n",
    "\n",
    "%let path = /folders/myfolders/;\n",
    "%put &path./data.csv;\n",
    "\n",
    "\"\"\", method=\"logandlist\")"
   ]
  },
  {
   "cell_type": "code",
   "execution_count": 12,
   "metadata": {},
   "outputs": [
    {
     "name": "stdout",
     "output_type": "stream",
     "text": [
      "\n",
      "25                                                         The SAS System                          Monday, June 10, 2024 12:28:00 PM\n",
      "\n",
      "206        ods listing close;ods html5 (id=saspy_internal) file=_tomods1 options(bitmap_mode='inline') device=svg style=Plateau; ods\n",
      "206      !  graphics on / outputfmt=png;\n",
      "207        \n",
      "208        \n",
      "209        options symbolgen;\n",
      "210        \n",
      "211        %let path = /folders/myfolders/;\n",
      "212        %put &path./data.csv;\n",
      "SYMBOLGEN:  Macro variable PATH resolves to /folders/myfolders/\n",
      "/folders/myfolders//data.csv\n",
      "213        \n",
      "214        options nosymbolgen;\n",
      "215        \n",
      "216        \n",
      "217        \n",
      "218        ods html5 (id=saspy_internal) close;ods listing;\n",
      "219        \n",
      "\n",
      "26                                                         The SAS System                          Monday, June 10, 2024 12:28:00 PM\n",
      "\n",
      "220        \n"
     ]
    },
    {
     "data": {
      "text/html": [],
      "text/plain": [
       "<IPython.core.display.HTML object>"
      ]
     },
     "metadata": {},
     "output_type": "display_data"
    }
   ],
   "source": [
    "sas.submitLST(\n",
    "f\"\"\"\n",
    "options symbolgen;\n",
    "\n",
    "%let path = /folders/myfolders/;\n",
    "%put &path./data.csv;\n",
    "\n",
    "options nosymbolgen;\n",
    "\"\"\", method=\"logandlist\")"
   ]
  },
  {
   "cell_type": "markdown",
   "metadata": {},
   "source": [
    "### MPRINT: Controls the display of SAS statements generated by macro execution.\n"
   ]
  },
  {
   "cell_type": "code",
   "execution_count": 15,
   "metadata": {},
   "outputs": [
    {
     "name": "stdout",
     "output_type": "stream",
     "text": [
      "\n",
      "31                                                         The SAS System                          Monday, June 10, 2024 12:28:00 PM\n",
      "\n",
      "262        ods listing close;ods html5 (id=saspy_internal) file=_tomods1 options(bitmap_mode='inline') device=svg style=Plateau; ods\n",
      "262      !  graphics on / outputfmt=png;\n",
      "263        \n",
      "264        \n",
      "265        options nomprint;\n",
      "266        \n",
      "267        %macro mac(input);\n",
      "268            data _null_;\n",
      "269                put \"Hello &input.!\";\n",
      "270            run;\n",
      "271        %mend mac;\n",
      "272        \n",
      "273        %mac(input=World);\n",
      "Hello World!\n",
      "274        \n",
      "275        \n",
      "276        \n",
      "277        \n",
      "278        ods html5 (id=saspy_internal) close;ods listing;\n",
      "279        \n",
      "\n",
      "32                                                         The SAS System                          Monday, June 10, 2024 12:28:00 PM\n",
      "\n",
      "280        \n"
     ]
    },
    {
     "data": {
      "text/html": [],
      "text/plain": [
       "<IPython.core.display.HTML object>"
      ]
     },
     "metadata": {},
     "output_type": "display_data"
    }
   ],
   "source": [
    "sas.submitLST(\n",
    "f\"\"\"\n",
    "options nomprint;\n",
    "\n",
    "%macro mac(input);\n",
    "    data _null_;\n",
    "        put \"Hello &input.!\";\n",
    "    run;\n",
    "%mend mac;\n",
    "\n",
    "%mac(input=World);\n",
    "\n",
    "\"\"\", method=\"logandlist\")"
   ]
  },
  {
   "cell_type": "code",
   "execution_count": 16,
   "metadata": {},
   "outputs": [
    {
     "name": "stdout",
     "output_type": "stream",
     "text": [
      "\n",
      "33                                                         The SAS System                          Monday, June 10, 2024 12:28:00 PM\n",
      "\n",
      "283        ods listing close;ods html5 (id=saspy_internal) file=_tomods1 options(bitmap_mode='inline') device=svg style=Plateau; ods\n",
      "283      !  graphics on / outputfmt=png;\n",
      "284        \n",
      "285        \n",
      "286        options mprint;\n",
      "287        \n",
      "288        %macro mac(input);\n",
      "289            data _null_;\n",
      "290                put \"Hello &input.!\";\n",
      "291            run;\n",
      "292        %mend mac;\n",
      "293        \n",
      "294        %mac(input=World);\n",
      "MPRINT(MAC):   data _null_;\n",
      "MPRINT(MAC):   put \"Hello World!\";\n",
      "MPRINT(MAC):   run;\n",
      "Hello World!\n",
      "295        \n",
      "296        options nomprint;\n",
      "297        \n",
      "298        \n",
      "299        \n",
      "300        ods html5 (id=saspy_internal) close;ods listing;\n",
      "301        \n",
      "\n",
      "34                                                         The SAS System                          Monday, June 10, 2024 12:28:00 PM\n",
      "\n",
      "302        \n"
     ]
    },
    {
     "data": {
      "text/html": [],
      "text/plain": [
       "<IPython.core.display.HTML object>"
      ]
     },
     "metadata": {},
     "output_type": "display_data"
    }
   ],
   "source": [
    "sas.submitLST(\n",
    "f\"\"\"\n",
    "options mprint;\n",
    "\n",
    "%macro mac(input);\n",
    "    data _null_;\n",
    "        put \"Hello &input.!\";\n",
    "    run;\n",
    "%mend mac;\n",
    "\n",
    "%mac(input=World);\n",
    "\n",
    "options nomprint;\n",
    "\"\"\", method=\"logandlist\")"
   ]
  }
 ],
 "metadata": {
  "kernelspec": {
   "display_name": "Python 3",
   "language": "python",
   "name": "python3"
  },
  "language_info": {
   "codemirror_mode": {
    "name": "ipython",
    "version": 3
   },
   "file_extension": ".py",
   "mimetype": "text/x-python",
   "name": "python",
   "nbconvert_exporter": "python",
   "pygments_lexer": "ipython3",
   "version": "3.12.1"
  }
 },
 "nbformat": 4,
 "nbformat_minor": 2
}
