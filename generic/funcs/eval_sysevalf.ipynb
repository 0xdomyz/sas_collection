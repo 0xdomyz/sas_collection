{
 "cells": [
  {
   "cell_type": "code",
   "execution_count": 2,
   "metadata": {},
   "outputs": [
    {
     "name": "stdout",
     "output_type": "stream",
     "text": [
      "Using SAS Config named: oda\n",
      "SAS Connection established. Subprocess id is 23144\n",
      "\n"
     ]
    }
   ],
   "source": [
    "import saspy\n",
    "sas = saspy.SASsession()"
   ]
  },
  {
   "cell_type": "markdown",
   "metadata": {},
   "source": [
    "macro variables are text based, thefore no arithemetic or logical evaluation are possible,\n",
    "absent from helper functions"
   ]
  },
  {
   "cell_type": "markdown",
   "metadata": {},
   "source": [
    "### eval"
   ]
  },
  {
   "cell_type": "code",
   "execution_count": 3,
   "metadata": {},
   "outputs": [
    {
     "data": {
      "text/html": [],
      "text/plain": [
       "<IPython.core.display.HTML object>"
      ]
     },
     "metadata": {},
     "output_type": "display_data"
    },
    {
     "name": "stdout",
     "output_type": "stream",
     "text": [
      "\n",
      "5                                                          The SAS System                           Friday, May 31, 2024 11:19:00 AM\n",
      "\n",
      "24         ods listing close;ods html5 (id=saspy_internal) file=_tomods1 options(bitmap_mode='inline') device=svg style=Plateau; ods\n",
      "24       !  graphics on / outputfmt=png;\n",
      "25         \n",
      "26         \n",
      "27         %let year = 202312;\n",
      "28         %let next = %eval(&year + 100);\n",
      "29         %put &next;\n",
      "202412\n",
      "30         \n",
      "31         \n",
      "32         \n",
      "33         ods html5 (id=saspy_internal) close;ods listing;\n",
      "34         \n",
      "\n",
      "6                                                          The SAS System                           Friday, May 31, 2024 11:19:00 AM\n",
      "\n",
      "35         \n"
     ]
    }
   ],
   "source": [
    "# eval for integer arithmetic\n",
    "sas.submitLST(\n",
    "f\"\"\"\n",
    "%let year = 202312;\n",
    "%let next = %eval(&year + 100);\n",
    "%put &next;\n",
    "\"\"\", method=\"listandlog\")"
   ]
  },
  {
   "cell_type": "code",
   "execution_count": 14,
   "metadata": {},
   "outputs": [
    {
     "data": {
      "text/html": [],
      "text/plain": [
       "<IPython.core.display.HTML object>"
      ]
     },
     "metadata": {},
     "output_type": "display_data"
    },
    {
     "name": "stdout",
     "output_type": "stream",
     "text": [
      "\n",
      "27                                                         The SAS System                           Friday, May 31, 2024 11:19:00 AM\n",
      "\n",
      "178        ods listing close;ods html5 (id=saspy_internal) file=_tomods1 options(bitmap_mode='inline') device=svg style=Plateau; ods\n",
      "178      !  graphics on / outputfmt=png;\n",
      "179        \n",
      "180        \n",
      "181        %let year = 202312;\n",
      "182        %let century = %eval(&year / 100);\n",
      "183        %put &century;\n",
      "2023\n",
      "184        \n",
      "185        \n",
      "186        \n",
      "187        ods html5 (id=saspy_internal) close;ods listing;\n",
      "188        \n",
      "\n",
      "28                                                         The SAS System                           Friday, May 31, 2024 11:19:00 AM\n",
      "\n",
      "189        \n"
     ]
    }
   ],
   "source": [
    "# eval for integer div\n",
    "sas.submitLST(\n",
    "f\"\"\"\n",
    "%let year = 202312;\n",
    "%let century = %eval(&year / 100);\n",
    "%put &century;\n",
    "\"\"\", method=\"listandlog\")"
   ]
  },
  {
   "cell_type": "code",
   "execution_count": 6,
   "metadata": {},
   "outputs": [
    {
     "data": {
      "text/html": [],
      "text/plain": [
       "<IPython.core.display.HTML object>"
      ]
     },
     "metadata": {},
     "output_type": "display_data"
    },
    {
     "name": "stdout",
     "output_type": "stream",
     "text": [
      "\n",
      "11                                                         The SAS System                           Friday, May 31, 2024 11:19:00 AM\n",
      "\n",
      "66         ods listing close;ods html5 (id=saspy_internal) file=_tomods1 options(bitmap_mode='inline') device=svg style=Plateau; ods\n",
      "66       !  graphics on / outputfmt=png;\n",
      "67         \n",
      "68         \n",
      "69         %let year = 202312;\n",
      "70         %let year_larger_than_2021 = %eval(&year > 2021);\n",
      "71         %put &year_larger_than_2021;\n",
      "1\n",
      "72         \n",
      "73         \n",
      "74         \n",
      "75         ods html5 (id=saspy_internal) close;ods listing;\n",
      "76         \n",
      "\n",
      "12                                                         The SAS System                           Friday, May 31, 2024 11:19:00 AM\n",
      "\n",
      "77         \n"
     ]
    }
   ],
   "source": [
    "# eval for logical arithmetic\n",
    "sas.submitLST(\n",
    "f\"\"\"\n",
    "%let year = 202312;\n",
    "%let year_larger_than_2021 = %eval(&year > 2021);\n",
    "%put &year_larger_than_2021;\n",
    "\"\"\", method=\"listandlog\")"
   ]
  },
  {
   "cell_type": "code",
   "execution_count": 24,
   "metadata": {},
   "outputs": [
    {
     "data": {
      "text/html": [],
      "text/plain": [
       "<IPython.core.display.HTML object>"
      ]
     },
     "metadata": {},
     "output_type": "display_data"
    },
    {
     "name": "stdout",
     "output_type": "stream",
     "text": [
      "\n",
      "47                                                         The SAS System                           Friday, May 31, 2024 11:19:00 AM\n",
      "\n",
      "316        ods listing close;ods html5 (id=saspy_internal) file=_tomods1 options(bitmap_mode='inline') device=svg style=Plateau; ods\n",
      "316      !  graphics on / outputfmt=png;\n",
      "317        \n",
      "318        \n",
      "319        %let name = model_3;\n",
      "320        %put %eval(&name > model_20);\n",
      "1\n",
      "321        %put %eval(&name > model_03);\n",
      "1\n",
      "322        \n",
      "323        \n",
      "324        \n",
      "325        ods html5 (id=saspy_internal) close;ods listing;\n",
      "326        \n",
      "\n",
      "48                                                         The SAS System                           Friday, May 31, 2024 11:19:00 AM\n",
      "\n",
      "327        \n"
     ]
    }
   ],
   "source": [
    "# eval for logical chars\n",
    "sas.submitLST(\n",
    "f\"\"\"\n",
    "%let name = model_3;\n",
    "%put %eval(&name > model_20);\n",
    "%put %eval(&name > model_03);\n",
    "\"\"\", method=\"listandlog\")"
   ]
  },
  {
   "cell_type": "markdown",
   "metadata": {},
   "source": [
    "### sysevalf"
   ]
  },
  {
   "cell_type": "code",
   "execution_count": 4,
   "metadata": {},
   "outputs": [
    {
     "data": {
      "text/html": [],
      "text/plain": [
       "<IPython.core.display.HTML object>"
      ]
     },
     "metadata": {},
     "output_type": "display_data"
    },
    {
     "name": "stdout",
     "output_type": "stream",
     "text": [
      "\n",
      "7                                                          The SAS System                           Friday, May 31, 2024 11:19:00 AM\n",
      "\n",
      "38         ods listing close;ods html5 (id=saspy_internal) file=_tomods1 options(bitmap_mode='inline') device=svg style=Plateau; ods\n",
      "38       !  graphics on / outputfmt=png;\n",
      "39         \n",
      "40         \n",
      "41         %let para = 1.35;\n",
      "42         %let para2 = %sysevalf(&para * 2);\n",
      "43         %put &para2;\n",
      "2.7\n",
      "44         \n",
      "45         \n",
      "46         \n",
      "47         ods html5 (id=saspy_internal) close;ods listing;\n",
      "48         \n",
      "\n",
      "8                                                          The SAS System                           Friday, May 31, 2024 11:19:00 AM\n",
      "\n",
      "49         \n"
     ]
    }
   ],
   "source": [
    "# sysevalf for floating point arithmetic\n",
    "sas.submitLST(\n",
    "f\"\"\"\n",
    "%let para = 1.35;\n",
    "%let para2 = %sysevalf(&para * 2);\n",
    "%put &para2;\n",
    "\"\"\", method=\"listandlog\")"
   ]
  },
  {
   "cell_type": "code",
   "execution_count": 27,
   "metadata": {},
   "outputs": [
    {
     "data": {
      "text/html": [],
      "text/plain": [
       "<IPython.core.display.HTML object>"
      ]
     },
     "metadata": {},
     "output_type": "display_data"
    },
    {
     "name": "stdout",
     "output_type": "stream",
     "text": [
      "\n",
      "53                                                         The SAS System                           Friday, May 31, 2024 11:19:00 AM\n",
      "\n",
      "358        ods listing close;ods html5 (id=saspy_internal) file=_tomods1 options(bitmap_mode='inline') device=svg style=Plateau; ods\n",
      "358      !  graphics on / outputfmt=png;\n",
      "359        \n",
      "360        \n",
      "361        %let para = 1.35;\n",
      "362        %put %sysevalf(&para > 01);\n",
      "1\n",
      "363        %put %sysevalf(b > a0);\n",
      "1\n",
      "364        \n",
      "365        \n",
      "366        \n",
      "367        ods html5 (id=saspy_internal) close;ods listing;\n",
      "368        \n",
      "\n",
      "54                                                         The SAS System                           Friday, May 31, 2024 11:19:00 AM\n",
      "\n",
      "369        \n"
     ]
    }
   ],
   "source": [
    "# sysevalf for logical arithmetic\n",
    "sas.submitLST(\n",
    "f\"\"\"\n",
    "%let para = 1.35;\n",
    "%put %sysevalf(&para > 01);\n",
    "%put %sysevalf(b > a0);\n",
    "\"\"\", method=\"listandlog\")"
   ]
  },
  {
   "cell_type": "code",
   "execution_count": 17,
   "metadata": {},
   "outputs": [
    {
     "data": {
      "text/html": [],
      "text/plain": [
       "<IPython.core.display.HTML object>"
      ]
     },
     "metadata": {},
     "output_type": "display_data"
    },
    {
     "name": "stdout",
     "output_type": "stream",
     "text": [
      "\n",
      "33                                                         The SAS System                           Friday, May 31, 2024 11:19:00 AM\n",
      "\n",
      "220        ods listing close;ods html5 (id=saspy_internal) file=_tomods1 options(bitmap_mode='inline') device=svg style=Plateau; ods\n",
      "220      !  graphics on / outputfmt=png;\n",
      "221        \n",
      "222        \n",
      "223        %let para = 1.35;\n",
      "224        %let para2 = %sysevalf(&para * 2, bool);\n",
      "225        %put &para2;\n",
      "1\n",
      "226        \n",
      "227        \n",
      "228        \n",
      "229        ods html5 (id=saspy_internal) close;ods listing;\n",
      "230        \n",
      "\n",
      "34                                                         The SAS System                           Friday, May 31, 2024 11:19:00 AM\n",
      "\n",
      "231        \n"
     ]
    }
   ],
   "source": [
    "# sysevalf convert to bool\n",
    "sas.submitLST(\n",
    "f\"\"\"\n",
    "%let para = 1.35;\n",
    "%let para2 = %sysevalf(&para * 2, bool);\n",
    "%put &para2;\n",
    "\"\"\", method=\"listandlog\")"
   ]
  },
  {
   "cell_type": "code",
   "execution_count": 19,
   "metadata": {},
   "outputs": [
    {
     "data": {
      "text/html": [],
      "text/plain": [
       "<IPython.core.display.HTML object>"
      ]
     },
     "metadata": {},
     "output_type": "display_data"
    },
    {
     "name": "stdout",
     "output_type": "stream",
     "text": [
      "\n",
      "37                                                         The SAS System                           Friday, May 31, 2024 11:19:00 AM\n",
      "\n",
      "249        ods listing close;ods html5 (id=saspy_internal) file=_tomods1 options(bitmap_mode='inline') device=svg style=Plateau; ods\n",
      "249      !  graphics on / outputfmt=png;\n",
      "250        \n",
      "251        \n",
      "252        %let para = 1.35;\n",
      "253        %put %sysevalf(&para * 2, ceil);\n",
      "3\n",
      "254        %put %sysevalf(&para * 2, floor);\n",
      "2\n",
      "255        %put %sysevalf(&para * 2, integer);\n",
      "2\n",
      "256        \n",
      "257        \n",
      "258        \n",
      "259        ods html5 (id=saspy_internal) close;ods listing;\n",
      "260        \n",
      "\n",
      "38                                                         The SAS System                           Friday, May 31, 2024 11:19:00 AM\n",
      "\n",
      "261        \n"
     ]
    }
   ],
   "source": [
    "# sysevalf convert to ceil, floor, integer\n",
    "sas.submitLST(\n",
    "f\"\"\"\n",
    "%let para = 1.35;\n",
    "%put %sysevalf(&para * 2, ceil);\n",
    "%put %sysevalf(&para * 2, floor);\n",
    "%put %sysevalf(&para * 2, integer);\n",
    "\"\"\", method=\"listandlog\")"
   ]
  },
  {
   "cell_type": "code",
   "execution_count": null,
   "metadata": {},
   "outputs": [],
   "source": []
  },
  {
   "cell_type": "code",
   "execution_count": null,
   "metadata": {},
   "outputs": [],
   "source": []
  },
  {
   "cell_type": "code",
   "execution_count": null,
   "metadata": {},
   "outputs": [],
   "source": []
  },
  {
   "cell_type": "code",
   "execution_count": null,
   "metadata": {},
   "outputs": [],
   "source": []
  },
  {
   "cell_type": "code",
   "execution_count": null,
   "metadata": {},
   "outputs": [],
   "source": []
  }
 ],
 "metadata": {
  "kernelspec": {
   "display_name": "Python 3",
   "language": "python",
   "name": "python3"
  },
  "language_info": {
   "codemirror_mode": {
    "name": "ipython",
    "version": 3
   },
   "file_extension": ".py",
   "mimetype": "text/x-python",
   "name": "python",
   "nbconvert_exporter": "python",
   "pygments_lexer": "ipython3",
   "version": "3.12.1"
  }
 },
 "nbformat": 4,
 "nbformat_minor": 2
}
