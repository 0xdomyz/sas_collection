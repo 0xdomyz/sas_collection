{
 "cells": [
  {
   "cell_type": "code",
   "execution_count": 2,
   "metadata": {},
   "outputs": [
    {
     "name": "stdout",
     "output_type": "stream",
     "text": [
      "Using SAS Config named: oda\n",
      "SAS Connection established. Subprocess id is 96\n",
      "\n"
     ]
    }
   ],
   "source": [
    "import saspy\n",
    "sas = saspy.SASsession(colorLOG=True)"
   ]
  },
  {
   "cell_type": "code",
   "execution_count": 7,
   "metadata": {},
   "outputs": [
    {
     "data": {
      "text/plain": [
       "['import.sas7bdat',\n",
       " 'SampleData.xlsx',\n",
       " 'customers_new.sas7bdat',\n",
       " 'customers.sas7bdat',\n",
       " 'customers.csv',\n",
       " 'testscores.sas7bdat',\n",
       " 'sataddress.sas7bdat',\n",
       " 'sataddress.csv',\n",
       " 'testscores2.csv',\n",
       " 'testscores.csv',\n",
       " 'cars/',\n",
       " 'Program 1.sas',\n",
       " 'sasuser.v94/']"
      ]
     },
     "execution_count": 7,
     "metadata": {},
     "output_type": "execute_result"
    }
   ],
   "source": [
    "sas.dirlist('~')"
   ]
  },
  {
   "cell_type": "code",
   "execution_count": 6,
   "metadata": {},
   "outputs": [
    {
     "data": {
      "text/plain": [
       "['import.sas7bdat',\n",
       " 'SampleData.xlsx',\n",
       " 'customers_new.sas7bdat',\n",
       " 'customers.sas7bdat',\n",
       " 'customers.csv',\n",
       " 'testscores.sas7bdat',\n",
       " 'sataddress.sas7bdat',\n",
       " 'sataddress.csv',\n",
       " 'testscores2.csv',\n",
       " 'testscores.csv',\n",
       " 'cars/',\n",
       " 'Program 1.sas',\n",
       " 'sasuser.v94/']"
      ]
     },
     "execution_count": 6,
     "metadata": {},
     "output_type": "execute_result"
    }
   ],
   "source": [
    "sas.dirlist('/home/u63767787')"
   ]
  },
  {
   "cell_type": "code",
   "execution_count": 5,
   "metadata": {},
   "outputs": [
    {
     "data": {
      "text/plain": [
       "['cars.csv', 'europeancars.sas7bdat']"
      ]
     },
     "execution_count": 5,
     "metadata": {},
     "output_type": "execute_result"
    }
   ],
   "source": [
    "sas.dirlist('/home/u63767787/sasuser.v94')"
   ]
  },
  {
   "cell_type": "code",
   "execution_count": 10,
   "metadata": {},
   "outputs": [
    {
     "name": "stdout",
     "output_type": "stream",
     "text": [
      "Next File is ~/import.sas7bdat\n",
      "Filename: /home/u63767787/import.sas7bdat\n",
      "Owner Name: u63767787\n",
      "Group Name: oda\n",
      "Access Permission: -rw-r--r--\n",
      "Last Modified: 04Feb2024:07:01:31\n",
      "File Size (bytes): 262144\n",
      "\n",
      "\n",
      "Next File is ~/SampleData.xlsx\n",
      "Filename: /home/u63767787/SampleData.xlsx\n",
      "Owner Name: u63767787\n",
      "Group Name: oda\n",
      "Access Permission: -rw-r--r--\n",
      "Last Modified: 04Feb2024:06:59:10\n",
      "File Size (bytes): 61720\n",
      "\n",
      "\n",
      "Next File is ~/customers_new.sas7bdat\n",
      "Filename: /home/u63767787/customers_new.sas7bdat\n",
      "Owner Name: u63767787\n",
      "Group Name: oda\n",
      "Access Permission: -rw-r--r--\n",
      "Last Modified: 04Feb2024:06:41:47\n",
      "File Size (bytes): 262144\n",
      "\n",
      "\n",
      "Next File is ~/customers.sas7bdat\n",
      "Filename: /home/u63767787/customers.sas7bdat\n",
      "Owner Name: u63767787\n",
      "Group Name: oda\n",
      "Access Permission: -rw-r--r--\n",
      "Last Modified: 04Feb2024:06:41:47\n",
      "File Size (bytes): 262144\n",
      "\n",
      "\n",
      "Next File is ~/customers.csv\n",
      "Filename: /home/u63767787/customers.csv\n",
      "Owner Name: u63767787\n",
      "Group Name: oda\n",
      "Access Permission: -rw-r--r--\n",
      "Last Modified: 04Feb2024:06:36:30\n",
      "File Size (bytes): 181\n",
      "\n",
      "\n",
      "Next File is ~/testscores.sas7bdat\n",
      "Filename: /home/u63767787/testscores.sas7bdat\n",
      "Owner Name: u63767787\n",
      "Group Name: oda\n",
      "Access Permission: -rw-r--r--\n",
      "Last Modified: 04Feb2024:06:29:34\n",
      "File Size (bytes): 262144\n",
      "\n",
      "\n",
      "Next File is ~/sataddress.sas7bdat\n",
      "Filename: /home/u63767787/sataddress.sas7bdat\n",
      "Owner Name: u63767787\n",
      "Group Name: oda\n",
      "Access Permission: -rw-r--r--\n",
      "Last Modified: 04Feb2024:06:29:34\n",
      "File Size (bytes): 262144\n",
      "\n",
      "\n",
      "Next File is ~/sataddress.csv\n",
      "Filename: /home/u63767787/sataddress.csv\n",
      "Owner Name: u63767787\n",
      "Group Name: oda\n",
      "Access Permission: -rw-r--r--\n",
      "Last Modified: 04Feb2024:06:19:55\n",
      "File Size (bytes): 113\n",
      "\n",
      "\n",
      "Next File is ~/testscores2.csv\n",
      "Filename: /home/u63767787/testscores2.csv\n",
      "Owner Name: u63767787\n",
      "Group Name: oda\n",
      "Access Permission: -rw-r--r--\n",
      "Last Modified: 01Feb2024:11:26:42\n",
      "File Size (bytes): 91\n",
      "\n",
      "\n",
      "Next File is ~/testscores.csv\n",
      "Filename: /home/u63767787/testscores.csv\n",
      "Owner Name: u63767787\n",
      "Group Name: oda\n",
      "Access Permission: -rw-r--r--\n",
      "Last Modified: 01Feb2024:11:23:13\n",
      "File Size (bytes): 94\n",
      "\n",
      "\n",
      "Directory ~/cars/ contains:\n",
      "['europeancars.sas7bdat']\n",
      "\n",
      "\n",
      "Next File is ~/Program 1.sas\n",
      "Filename: /home/u63767787/Program 1.sas\n",
      "Owner Name: u63767787\n",
      "Group Name: oda\n",
      "Access Permission: -rw-r--r--\n",
      "Last Modified: 04Feb2024:06:49:24\n",
      "File Size (bytes): 0\n",
      "\n",
      "\n",
      "Directory ~/sasuser.v94/ contains:\n",
      "['cars.csv', 'europeancars.sas7bdat']\n",
      "\n",
      "\n"
     ]
    }
   ],
   "source": [
    "import os\n",
    "files = sas.dirlist(r\"~\")\n",
    "for file in files:\n",
    "    f = \"~/\"+file\n",
    "    if f[len(f)-1] == sas.hostsep:\n",
    "        print('Directory '+f+' contains:')\n",
    "        print(sas.dirlist(f))\n",
    "        print('\\n')\n",
    "    else:\n",
    "        print('Next File is '+f)\n",
    "        inf = sas.file_info(f)\n",
    "        for key in inf.keys():\n",
    "            print(key+\": \"+inf[key])\n",
    "        print('\\n')"
   ]
  },
  {
   "cell_type": "code",
   "execution_count": null,
   "metadata": {},
   "outputs": [],
   "source": []
  },
  {
   "cell_type": "code",
   "execution_count": null,
   "metadata": {},
   "outputs": [],
   "source": []
  },
  {
   "cell_type": "code",
   "execution_count": null,
   "metadata": {},
   "outputs": [],
   "source": []
  }
 ],
 "metadata": {
  "kernelspec": {
   "display_name": "Python 3",
   "language": "python",
   "name": "python3"
  },
  "language_info": {
   "codemirror_mode": {
    "name": "ipython",
    "version": 3
   },
   "file_extension": ".py",
   "mimetype": "text/x-python",
   "name": "python",
   "nbconvert_exporter": "python",
   "pygments_lexer": "ipython3",
   "version": "3.12.1"
  }
 },
 "nbformat": 4,
 "nbformat_minor": 2
}
