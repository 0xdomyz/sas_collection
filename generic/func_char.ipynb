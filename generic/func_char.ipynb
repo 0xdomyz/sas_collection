{
 "cells": [
  {
   "cell_type": "code",
   "execution_count": 10,
   "metadata": {},
   "outputs": [
    {
     "name": "stdout",
     "output_type": "stream",
     "text": [
      "Using SAS Config named: oda\n",
      "SAS Connection established. Subprocess id is 10532\n",
      "\n"
     ]
    }
   ],
   "source": [
    "import saspy\n",
    "sas = saspy.SASsession()"
   ]
  },
  {
   "cell_type": "code",
   "execution_count": null,
   "metadata": {},
   "outputs": [],
   "source": [
    "sas.submitLST(\n",
    "f\"\"\"\n",
    "anyalpha\n",
    "anydigit\n",
    "anyspace\n",
    "cat\n",
    "cats\n",
    "catx\n",
    "compress\n",
    "index\n",
    "left\n",
    "length\n",
    "propcase\n",
    "substr\n",
    "translate\n",
    "tranwrd\n",
    "trim\n",
    "upcase\n",
    "\n",
    "run;\n",
    "\"\"\")"
   ]
  },
  {
   "cell_type": "code",
   "execution_count": null,
   "metadata": {},
   "outputs": [],
   "source": [
    "sas.submitLST(\n",
    "f\"\"\"\n",
    "data _null_;\n",
    "    string = 'Hello World';\n",
    "    compressed_string = compress(string);\n",
    "    put compressed_string;\n",
    "run;\n",
    "\"\"\")"
   ]
  },
  {
   "cell_type": "code",
   "execution_count": null,
   "metadata": {},
   "outputs": [],
   "source": [
    "sas.submitLST(f\"\"\"\n",
    "compress(model)\n",
    "\n",
    "DATA new;\n",
    "    SET old;\n",
    "    length new_column $100.; /* Adjust as needed */\n",
    "    new_column = STRIP(old_column);\n",
    "RUN;\n",
    "\n",
    "DATA new;\n",
    "    SET old;\n",
    "    length new_column $100.; /* Adjust as needed */\n",
    "    new_column = TRANWRD(old_column, ' ', '-');\n",
    "RUN;\n",
    "run;\n",
    "\"\"\")\n",
    "\n"
   ]
  },
  {
   "cell_type": "code",
   "execution_count": null,
   "metadata": {},
   "outputs": [],
   "source": [
    "sas.submitLST(f\"\"\"\n",
    "data work.cardata;\n",
    "    set sashelp.cars;\n",
    "    Markup = MSRP - Invoice;\n",
    "    Make_Model = catx('_', make, model);\n",
    "run;\n",
    "\n",
    "proc print data=work.cardata;\n",
    "    \n",
    "run;\n",
    "\"\"\")\n",
    "\n"
   ]
  },
  {
   "cell_type": "code",
   "execution_count": null,
   "metadata": {},
   "outputs": [],
   "source": []
  },
  {
   "cell_type": "code",
   "execution_count": null,
   "metadata": {},
   "outputs": [],
   "source": []
  },
  {
   "cell_type": "code",
   "execution_count": null,
   "metadata": {},
   "outputs": [],
   "source": []
  }
 ],
 "metadata": {
  "kernelspec": {
   "display_name": "Python 3",
   "language": "python",
   "name": "python3"
  },
  "language_info": {
   "codemirror_mode": {
    "name": "ipython",
    "version": 3
   },
   "file_extension": ".py",
   "mimetype": "text/x-python",
   "name": "python",
   "nbconvert_exporter": "python",
   "pygments_lexer": "ipython3",
   "version": "3.12.1"
  }
 },
 "nbformat": 4,
 "nbformat_minor": 2
}
