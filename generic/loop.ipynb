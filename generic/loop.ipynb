{
 "cells": [
  {
   "cell_type": "code",
   "execution_count": 2,
   "metadata": {},
   "outputs": [
    {
     "name": "stdout",
     "output_type": "stream",
     "text": [
      "Using SAS Config named: oda\n",
      "SAS Connection established. Subprocess id is 17644\n",
      "\n"
     ]
    }
   ],
   "source": [
    "import saspy\n",
    "sas = saspy.SASsession()"
   ]
  },
  {
   "cell_type": "code",
   "execution_count": null,
   "metadata": {},
   "outputs": [],
   "source": [
    "sas.submitLST(f\"\"\"\n",
    "/* Specify the start and end dates */\n",
    "%let start_date = '202201';\n",
    "%let end_date = '202212';\n",
    "\n",
    "/* Create tables based on yyyymm keys */\n",
    "%macro create_tables;\n",
    "  %local yyyymm;\n",
    "  \n",
    "  %do yyyymm = &start_date %to &end_date;\n",
    "    /* Create table for yyyymm */\n",
    "    data table_&yyyymm;\n",
    "        set  sashelp.class;\n",
    "        /* creat a month column */\n",
    "        month = &yyyymm;\n",
    "    run;\n",
    "  %end;\n",
    "%mend;\n",
    "\n",
    "%create_tables;\n",
    "\n",
    "/* combines list of tables covering a range of suffixes */\n",
    "%macro combine_tables;\n",
    "  %local yyyymm;\n",
    "  \n",
    "    data combined_table;\n",
    "        set \n",
    "        %do yyyymm = &start_date %to &end_date;\n",
    "            table_&yyyymm\n",
    "        %end;\n",
    "    run;\n",
    "\n",
    "%mend;\n",
    "\n",
    "%combine_tables;\n",
    "\n",
    "run;\n",
    "\"\"\")"
   ]
  },
  {
   "cell_type": "code",
   "execution_count": null,
   "metadata": {},
   "outputs": [],
   "source": [
    "sas.submitLST(f\"\"\"\n",
    "/* Define the names of the tables */\n",
    "%let tables = table1 table2 table3;\n",
    "\n",
    "/* Create an empty results table */\n",
    "proc sql;\n",
    "    create table results (TableName char(10), SumValue num);\n",
    "quit;\n",
    "\n",
    "/* Loop over the tables */\n",
    "%macro sum_tables;\n",
    "    %do i = 1 %to %sysfunc(countw(&tables.));\n",
    "        %let table = %scan(&tables., &i.);\n",
    "        proc sql;\n",
    "            /* Calculate the sum */\n",
    "            create table temp as\n",
    "            select sum(column_name) as SumValue\n",
    "            from &table.;\n",
    "            \n",
    "            /* Add the result to the results table */\n",
    "            insert into results\n",
    "            select \"&table.\" as TableName, SumValue\n",
    "            from temp;\n",
    "        quit;\n",
    "        \n",
    "        /* Delete the temporary table */\n",
    "        proc datasets library=work nolist;\n",
    "            delete temp;\n",
    "        quit;\n",
    "    %end;\n",
    "%mend sum_tables;\n",
    "\n",
    "%sum_tables;\n",
    "\n",
    "\n",
    "run;\n",
    "\"\"\")"
   ]
  },
  {
   "cell_type": "code",
   "execution_count": null,
   "metadata": {},
   "outputs": [],
   "source": []
  }
 ],
 "metadata": {
  "kernelspec": {
   "display_name": "Python 3",
   "language": "python",
   "name": "python3"
  },
  "language_info": {
   "codemirror_mode": {
    "name": "ipython",
    "version": 3
   },
   "file_extension": ".py",
   "mimetype": "text/x-python",
   "name": "python",
   "nbconvert_exporter": "python",
   "pygments_lexer": "ipython3",
   "version": "3.12.1"
  }
 },
 "nbformat": 4,
 "nbformat_minor": 2
}
