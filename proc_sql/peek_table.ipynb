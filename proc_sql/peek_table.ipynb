{
 "cells": [
  {
   "cell_type": "code",
   "execution_count": 1,
   "metadata": {},
   "outputs": [
    {
     "name": "stdout",
     "output_type": "stream",
     "text": [
      "Using SAS Config named: oda\n",
      "SAS Connection established. Subprocess id is 12200\n",
      "\n"
     ]
    }
   ],
   "source": [
    "import saspy\n",
    "sas = saspy.SASsession()"
   ]
  },
  {
   "cell_type": "code",
   "execution_count": null,
   "metadata": {},
   "outputs": [],
   "source": [
    "sas.submitLST(\n",
    "f\"\"\"\n",
    "%macro head(tbl);\n",
    "proc sql inobs=5;\n",
    "    select *\n",
    "    from &tbl\n",
    "    ;\n",
    "quit;\n",
    "\"\"\")"
   ]
  },
  {
   "cell_type": "code",
   "execution_count": null,
   "metadata": {},
   "outputs": [],
   "source": [
    "sas.submitLST(\n",
    "f\"\"\"\n",
    "%macro shape(ds);\n",
    "   %global dset nvars nobs;\n",
    "   %let dset=&ds;\n",
    "   %let dsid = %sysfunc(open(&dset));\n",
    "   %if &dsid %then\n",
    "      %do;\n",
    "         %let nobs =%sysfunc(attrn(&dsid,NOBS));\n",
    "         %let nvars=%sysfunc(attrn(&dsid,NVARS));\n",
    "         %let rc = %sysfunc(close(&dsid));\n",
    "         %put &nobs, &nvars;\n",
    "      %end;\n",
    "   %else\n",
    "      %put Open for data set &dset failed - %sysfunc(sysmsg());\n",
    "%mend obsnvars;\n",
    "\n",
    "\"\"\", method=\"listorlog\")"
   ]
  },
  {
   "cell_type": "code",
   "execution_count": null,
   "metadata": {},
   "outputs": [],
   "source": [
    "sas.submitLST(\n",
    "f\"\"\"\n",
    "%macro valc(tbl, col, agg);\n",
    "PROC SQL;\n",
    "    SELECT \n",
    "        &col,\n",
    "        &agg\n",
    "    FROM &tbl\n",
    "    GROUP BY &col\n",
    "    ORDER BY 1 DESC\n",
    "    ;\n",
    "QUIT;\n",
    "%mend valc;\n",
    "\n",
    "vac = valc(sashelp.stocks, type, count(*));\n",
    "\"\"\")"
   ]
  },
  {
   "cell_type": "code",
   "execution_count": null,
   "metadata": {},
   "outputs": [],
   "source": []
  }
 ],
 "metadata": {
  "kernelspec": {
   "display_name": "Python 3",
   "language": "python",
   "name": "python3"
  },
  "language_info": {
   "codemirror_mode": {
    "name": "ipython",
    "version": 3
   },
   "file_extension": ".py",
   "mimetype": "text/x-python",
   "name": "python",
   "nbconvert_exporter": "python",
   "pygments_lexer": "ipython3",
   "version": "3.12.1"
  }
 },
 "nbformat": 4,
 "nbformat_minor": 2
}
