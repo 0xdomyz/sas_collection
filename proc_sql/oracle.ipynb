{
 "cells": [
  {
   "cell_type": "code",
   "execution_count": 2,
   "metadata": {},
   "outputs": [
    {
     "name": "stdout",
     "output_type": "stream",
     "text": [
      "Using SAS Config named: oda\n",
      "SAS Connection established. Subprocess id is 19548\n",
      "\n"
     ]
    }
   ],
   "source": [
    "import saspy\n",
    "sas = saspy.SASsession()"
   ]
  },
  {
   "cell_type": "code",
   "execution_count": null,
   "metadata": {},
   "outputs": [],
   "source": [
    "sas.submitLST(f\"\"\"\n",
    "proc sql;\n",
    "    connect using oralib as oracle;\n",
    "    execute(\n",
    "        merge into \"marketproducts\" t2\n",
    "        using \"marketproductupdate\" t1\n",
    "        on (\n",
    "            t2.id = t1.id\n",
    "        )\n",
    "\n",
    "        when matched then update\n",
    "        set \n",
    "            t2.product = t1.product,\n",
    "            t2.price = t1.cost\n",
    "\n",
    "        when not matched then insert\n",
    "        (\n",
    "            t2.id,\n",
    "            t2.product,\n",
    "            t2.price\n",
    "        )\n",
    "        values\n",
    "        (\n",
    "            t1.id,\n",
    "            t1.product,\n",
    "            t1.cost\n",
    "        )\n",
    "    ) by oracle;\n",
    "    disconnect from oracle;\n",
    "quit;\n",
    "run;\n",
    "\n",
    "\"\"\")"
   ]
  },
  {
   "cell_type": "code",
   "execution_count": null,
   "metadata": {},
   "outputs": [],
   "source": []
  }
 ],
 "metadata": {
  "kernelspec": {
   "display_name": "Python 3",
   "language": "python",
   "name": "python3"
  },
  "language_info": {
   "codemirror_mode": {
    "name": "ipython",
    "version": 3
   },
   "file_extension": ".py",
   "mimetype": "text/x-python",
   "name": "python",
   "nbconvert_exporter": "python",
   "pygments_lexer": "ipython3",
   "version": "3.12.1"
  }
 },
 "nbformat": 4,
 "nbformat_minor": 2
}
