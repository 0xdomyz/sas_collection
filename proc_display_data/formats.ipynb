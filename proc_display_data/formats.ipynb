{
 "cells": [
  {
   "cell_type": "code",
   "execution_count": 1,
   "metadata": {},
   "outputs": [
    {
     "name": "stdout",
     "output_type": "stream",
     "text": [
      "Using SAS Config named: oda\n",
      "SAS Connection established. Subprocess id is 712\n",
      "\n"
     ]
    }
   ],
   "source": [
    "import saspy\n",
    "sas = saspy.SASsession()"
   ]
  },
  {
   "cell_type": "markdown",
   "metadata": {},
   "source": [
    "### formats\n"
   ]
  },
  {
   "cell_type": "code",
   "execution_count": null,
   "metadata": {},
   "outputs": [],
   "source": [
    "libname libsas '/home/u63767787';\n",
    "\n",
    "/* data from csv */\n",
    "\n",
    "data libsas.customers;\n",
    "    infile '/home/u63767787/customers.csv'\n",
    "    dlm = ',' firstobs=2;\n",
    "    input customer_id name $ country $ gender $ birth_date total;\n",
    "run; \n",
    "\n",
    "\n",
    "proc print data=libsas.customers;\n",
    "    /* format total comma12.3 birth_date date9.; */\n",
    "    format total dollar12.3 birth_date mmddyy10.;\n",
    "run;\n",
    "\n",
    "data libsas.customers_new;\n",
    "    set libsas.customers;\n",
    "    format total dollar12.3 birth_date mmddyy10.;\n",
    "run;\n",
    "\n",
    "\n"
   ]
  }
 ],
 "metadata": {
  "kernelspec": {
   "display_name": "Python 3",
   "language": "python",
   "name": "python3"
  },
  "language_info": {
   "codemirror_mode": {
    "name": "ipython",
    "version": 3
   },
   "file_extension": ".py",
   "mimetype": "text/x-python",
   "name": "python",
   "nbconvert_exporter": "python",
   "pygments_lexer": "ipython3",
   "version": "3.12.1"
  }
 },
 "nbformat": 4,
 "nbformat_minor": 2
}
