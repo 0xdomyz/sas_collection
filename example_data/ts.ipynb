{
 "cells": [
  {
   "cell_type": "code",
   "execution_count": 1,
   "metadata": {},
   "outputs": [
    {
     "name": "stdout",
     "output_type": "stream",
     "text": [
      "Using SAS Config named: oda\n",
      "SAS Connection established. Subprocess id is 11220\n",
      "\n"
     ]
    }
   ],
   "source": [
    "import saspy\n",
    "sas = saspy.SASsession(colorLOG=True)"
   ]
  },
  {
   "cell_type": "markdown",
   "metadata": {},
   "source": [
    "### prdsale"
   ]
  },
  {
   "cell_type": "code",
   "execution_count": 2,
   "metadata": {},
   "outputs": [
    {
     "data": {
      "text/html": [
       "<div>\n",
       "<style scoped>\n",
       "    .dataframe tbody tr th:only-of-type {\n",
       "        vertical-align: middle;\n",
       "    }\n",
       "\n",
       "    .dataframe tbody tr th {\n",
       "        vertical-align: top;\n",
       "    }\n",
       "\n",
       "    .dataframe thead th {\n",
       "        text-align: right;\n",
       "    }\n",
       "</style>\n",
       "<table border=\"1\" class=\"dataframe\">\n",
       "  <thead>\n",
       "    <tr style=\"text-align: right;\">\n",
       "      <th></th>\n",
       "      <th>ACTUAL</th>\n",
       "      <th>PREDICT</th>\n",
       "      <th>COUNTRY</th>\n",
       "      <th>REGION</th>\n",
       "      <th>DIVISION</th>\n",
       "      <th>PRODTYPE</th>\n",
       "      <th>PRODUCT</th>\n",
       "      <th>QUARTER</th>\n",
       "      <th>YEAR</th>\n",
       "      <th>MONTH</th>\n",
       "    </tr>\n",
       "  </thead>\n",
       "  <tbody>\n",
       "    <tr>\n",
       "      <th>0</th>\n",
       "      <td>925.0</td>\n",
       "      <td>850.0</td>\n",
       "      <td>CANADA</td>\n",
       "      <td>EAST</td>\n",
       "      <td>EDUCATION</td>\n",
       "      <td>FURNITURE</td>\n",
       "      <td>SOFA</td>\n",
       "      <td>1.0</td>\n",
       "      <td>1993.0</td>\n",
       "      <td>1993-01-01</td>\n",
       "    </tr>\n",
       "    <tr>\n",
       "      <th>1</th>\n",
       "      <td>999.0</td>\n",
       "      <td>297.0</td>\n",
       "      <td>CANADA</td>\n",
       "      <td>EAST</td>\n",
       "      <td>EDUCATION</td>\n",
       "      <td>FURNITURE</td>\n",
       "      <td>SOFA</td>\n",
       "      <td>1.0</td>\n",
       "      <td>1993.0</td>\n",
       "      <td>1993-02-01</td>\n",
       "    </tr>\n",
       "    <tr>\n",
       "      <th>2</th>\n",
       "      <td>608.0</td>\n",
       "      <td>846.0</td>\n",
       "      <td>CANADA</td>\n",
       "      <td>EAST</td>\n",
       "      <td>EDUCATION</td>\n",
       "      <td>FURNITURE</td>\n",
       "      <td>SOFA</td>\n",
       "      <td>1.0</td>\n",
       "      <td>1993.0</td>\n",
       "      <td>1993-03-01</td>\n",
       "    </tr>\n",
       "    <tr>\n",
       "      <th>3</th>\n",
       "      <td>642.0</td>\n",
       "      <td>533.0</td>\n",
       "      <td>CANADA</td>\n",
       "      <td>EAST</td>\n",
       "      <td>EDUCATION</td>\n",
       "      <td>FURNITURE</td>\n",
       "      <td>SOFA</td>\n",
       "      <td>2.0</td>\n",
       "      <td>1993.0</td>\n",
       "      <td>1993-04-01</td>\n",
       "    </tr>\n",
       "    <tr>\n",
       "      <th>4</th>\n",
       "      <td>656.0</td>\n",
       "      <td>646.0</td>\n",
       "      <td>CANADA</td>\n",
       "      <td>EAST</td>\n",
       "      <td>EDUCATION</td>\n",
       "      <td>FURNITURE</td>\n",
       "      <td>SOFA</td>\n",
       "      <td>2.0</td>\n",
       "      <td>1993.0</td>\n",
       "      <td>1993-05-01</td>\n",
       "    </tr>\n",
       "  </tbody>\n",
       "</table>\n",
       "</div>"
      ],
      "text/plain": [
       "   ACTUAL  PREDICT COUNTRY REGION   DIVISION   PRODTYPE PRODUCT  QUARTER  \\\n",
       "0   925.0    850.0  CANADA   EAST  EDUCATION  FURNITURE    SOFA      1.0   \n",
       "1   999.0    297.0  CANADA   EAST  EDUCATION  FURNITURE    SOFA      1.0   \n",
       "2   608.0    846.0  CANADA   EAST  EDUCATION  FURNITURE    SOFA      1.0   \n",
       "3   642.0    533.0  CANADA   EAST  EDUCATION  FURNITURE    SOFA      2.0   \n",
       "4   656.0    646.0  CANADA   EAST  EDUCATION  FURNITURE    SOFA      2.0   \n",
       "\n",
       "     YEAR      MONTH  \n",
       "0  1993.0 1993-01-01  \n",
       "1  1993.0 1993-02-01  \n",
       "2  1993.0 1993-03-01  \n",
       "3  1993.0 1993-04-01  \n",
       "4  1993.0 1993-05-01  "
      ]
     },
     "execution_count": 2,
     "metadata": {},
     "output_type": "execute_result"
    }
   ],
   "source": [
    "sas.sasdata(\"prdsale\",\"sashelp\").head()"
   ]
  },
  {
   "cell_type": "markdown",
   "metadata": {},
   "source": [
    "### air\n"
   ]
  },
  {
   "cell_type": "code",
   "execution_count": 3,
   "metadata": {},
   "outputs": [
    {
     "data": {
      "text/html": [
       "<div>\n",
       "<style scoped>\n",
       "    .dataframe tbody tr th:only-of-type {\n",
       "        vertical-align: middle;\n",
       "    }\n",
       "\n",
       "    .dataframe tbody tr th {\n",
       "        vertical-align: top;\n",
       "    }\n",
       "\n",
       "    .dataframe thead th {\n",
       "        text-align: right;\n",
       "    }\n",
       "</style>\n",
       "<table border=\"1\" class=\"dataframe\">\n",
       "  <thead>\n",
       "    <tr style=\"text-align: right;\">\n",
       "      <th></th>\n",
       "      <th>DATE</th>\n",
       "      <th>AIR</th>\n",
       "    </tr>\n",
       "  </thead>\n",
       "  <tbody>\n",
       "    <tr>\n",
       "      <th>0</th>\n",
       "      <td>1949-01-01</td>\n",
       "      <td>112.0</td>\n",
       "    </tr>\n",
       "    <tr>\n",
       "      <th>1</th>\n",
       "      <td>1949-02-01</td>\n",
       "      <td>118.0</td>\n",
       "    </tr>\n",
       "    <tr>\n",
       "      <th>2</th>\n",
       "      <td>1949-03-01</td>\n",
       "      <td>132.0</td>\n",
       "    </tr>\n",
       "    <tr>\n",
       "      <th>3</th>\n",
       "      <td>1949-04-01</td>\n",
       "      <td>129.0</td>\n",
       "    </tr>\n",
       "    <tr>\n",
       "      <th>4</th>\n",
       "      <td>1949-05-01</td>\n",
       "      <td>121.0</td>\n",
       "    </tr>\n",
       "  </tbody>\n",
       "</table>\n",
       "</div>"
      ],
      "text/plain": [
       "        DATE    AIR\n",
       "0 1949-01-01  112.0\n",
       "1 1949-02-01  118.0\n",
       "2 1949-03-01  132.0\n",
       "3 1949-04-01  129.0\n",
       "4 1949-05-01  121.0"
      ]
     },
     "execution_count": 3,
     "metadata": {},
     "output_type": "execute_result"
    }
   ],
   "source": [
    "sas.sasdata(\"air\",\"sashelp\").head()"
   ]
  },
  {
   "cell_type": "markdown",
   "metadata": {},
   "source": [
    "### stocks"
   ]
  },
  {
   "cell_type": "code",
   "execution_count": 4,
   "metadata": {},
   "outputs": [
    {
     "data": {
      "text/html": [
       "<div>\n",
       "<style scoped>\n",
       "    .dataframe tbody tr th:only-of-type {\n",
       "        vertical-align: middle;\n",
       "    }\n",
       "\n",
       "    .dataframe tbody tr th {\n",
       "        vertical-align: top;\n",
       "    }\n",
       "\n",
       "    .dataframe thead th {\n",
       "        text-align: right;\n",
       "    }\n",
       "</style>\n",
       "<table border=\"1\" class=\"dataframe\">\n",
       "  <thead>\n",
       "    <tr style=\"text-align: right;\">\n",
       "      <th></th>\n",
       "      <th>Stock</th>\n",
       "      <th>Date</th>\n",
       "      <th>Open</th>\n",
       "      <th>High</th>\n",
       "      <th>Low</th>\n",
       "      <th>Close</th>\n",
       "      <th>Volume</th>\n",
       "      <th>AdjClose</th>\n",
       "    </tr>\n",
       "  </thead>\n",
       "  <tbody>\n",
       "    <tr>\n",
       "      <th>0</th>\n",
       "      <td>IBM</td>\n",
       "      <td>2005-12-01</td>\n",
       "      <td>89.15</td>\n",
       "      <td>89.92</td>\n",
       "      <td>81.56</td>\n",
       "      <td>82.20</td>\n",
       "      <td>5976252.0</td>\n",
       "      <td>81.37</td>\n",
       "    </tr>\n",
       "    <tr>\n",
       "      <th>1</th>\n",
       "      <td>IBM</td>\n",
       "      <td>2005-11-01</td>\n",
       "      <td>81.85</td>\n",
       "      <td>89.94</td>\n",
       "      <td>80.64</td>\n",
       "      <td>88.90</td>\n",
       "      <td>5556471.0</td>\n",
       "      <td>88.01</td>\n",
       "    </tr>\n",
       "    <tr>\n",
       "      <th>2</th>\n",
       "      <td>IBM</td>\n",
       "      <td>2005-10-03</td>\n",
       "      <td>80.22</td>\n",
       "      <td>84.60</td>\n",
       "      <td>78.70</td>\n",
       "      <td>81.88</td>\n",
       "      <td>7019666.0</td>\n",
       "      <td>80.86</td>\n",
       "    </tr>\n",
       "    <tr>\n",
       "      <th>3</th>\n",
       "      <td>IBM</td>\n",
       "      <td>2005-09-01</td>\n",
       "      <td>80.16</td>\n",
       "      <td>82.11</td>\n",
       "      <td>76.93</td>\n",
       "      <td>80.22</td>\n",
       "      <td>5772280.0</td>\n",
       "      <td>79.22</td>\n",
       "    </tr>\n",
       "    <tr>\n",
       "      <th>4</th>\n",
       "      <td>IBM</td>\n",
       "      <td>2005-08-01</td>\n",
       "      <td>83.00</td>\n",
       "      <td>84.20</td>\n",
       "      <td>79.87</td>\n",
       "      <td>80.62</td>\n",
       "      <td>4801386.0</td>\n",
       "      <td>79.62</td>\n",
       "    </tr>\n",
       "  </tbody>\n",
       "</table>\n",
       "</div>"
      ],
      "text/plain": [
       "  Stock       Date   Open   High    Low  Close     Volume  AdjClose\n",
       "0   IBM 2005-12-01  89.15  89.92  81.56  82.20  5976252.0     81.37\n",
       "1   IBM 2005-11-01  81.85  89.94  80.64  88.90  5556471.0     88.01\n",
       "2   IBM 2005-10-03  80.22  84.60  78.70  81.88  7019666.0     80.86\n",
       "3   IBM 2005-09-01  80.16  82.11  76.93  80.22  5772280.0     79.22\n",
       "4   IBM 2005-08-01  83.00  84.20  79.87  80.62  4801386.0     79.62"
      ]
     },
     "execution_count": 4,
     "metadata": {},
     "output_type": "execute_result"
    }
   ],
   "source": [
    "sas.sasdata(\"stocks\",\"sashelp\").head()"
   ]
  },
  {
   "cell_type": "code",
   "execution_count": null,
   "metadata": {},
   "outputs": [],
   "source": []
  },
  {
   "cell_type": "code",
   "execution_count": null,
   "metadata": {},
   "outputs": [],
   "source": []
  },
  {
   "cell_type": "code",
   "execution_count": null,
   "metadata": {},
   "outputs": [],
   "source": []
  }
 ],
 "metadata": {
  "kernelspec": {
   "display_name": "Python 3",
   "language": "python",
   "name": "python3"
  },
  "language_info": {
   "codemirror_mode": {
    "name": "ipython",
    "version": 3
   },
   "file_extension": ".py",
   "mimetype": "text/x-python",
   "name": "python",
   "nbconvert_exporter": "python",
   "pygments_lexer": "ipython3",
   "version": "3.12.1"
  }
 },
 "nbformat": 4,
 "nbformat_minor": 2
}
