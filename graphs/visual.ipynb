{
 "cells": [
  {
   "cell_type": "code",
   "execution_count": null,
   "metadata": {
    "vscode": {
     "languageId": "plaintext"
    }
   },
   "outputs": [],
   "source": [
    "visualizing\n",
    "- bar\n",
    "- histograms and density curves\n",
    "- box\n",
    "- scatter\n",
    "- series\n",
    "- fitted curves \n",
    "- auxiliary\n",
    "- customization\n",
    "- paneled\n",
    "- image properties \n"
   ]
  },
  {
   "cell_type": "code",
   "execution_count": null,
   "metadata": {
    "vscode": {
     "languageId": "plaintext"
    }
   },
   "outputs": [],
   "source": []
  }
 ],
 "metadata": {
  "language_info": {
   "name": "python"
  }
 },
 "nbformat": 4,
 "nbformat_minor": 2
}
