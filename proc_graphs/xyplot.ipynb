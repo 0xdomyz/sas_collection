{
 "cells": [
  {
   "cell_type": "code",
   "execution_count": 1,
   "metadata": {},
   "outputs": [
    {
     "name": "stdout",
     "output_type": "stream",
     "text": [
      "Using SAS Config named: oda\n",
      "SAS Connection established. Subprocess id is 16816\n",
      "\n"
     ]
    }
   ],
   "source": [
    "import saspy\n",
    "sas = saspy.SASsession()"
   ]
  },
  {
   "cell_type": "code",
   "execution_count": 7,
   "metadata": {},
   "outputs": [],
   "source": [
    "### scatter\n",
    "sas.submitLST(\n",
    "f\"\"\"\n",
    "ods graphics / reset width=5in height=3in imagemap;\n",
    "\n",
    "proc sgplot data=SASHELP.CARS;\n",
    "\ttitle height=14pt \"vehicle stats\";\n",
    "\tscatter x=Horsepower y=MPG_City / group=Origin \n",
    "\t\tmarkerattrs=(symbol=circlefilled size=12) transparency=0.75;\n",
    "\txaxis grid;\n",
    "\tyaxis grid;\n",
    "\tkeylegend / location=inside;\n",
    "run;\n",
    "\n",
    "ods graphics / reset;\n",
    "title;\n",
    "\n",
    "\"\"\")"
   ]
  },
  {
   "cell_type": "code",
   "execution_count": 8,
   "metadata": {},
   "outputs": [],
   "source": [
    "### series\n",
    "sas.submitLST(\n",
    "f\"\"\"\n",
    "\n",
    "ods graphics / reset width=6in height=4in imagemap;\n",
    "\n",
    "proc sort data=SASHELP.STOCKS out=_SeriesPlotTaskData;\n",
    "\tby Date;\n",
    "run;\n",
    "\n",
    "proc sgplot data=_SeriesPlotTaskData;\n",
    "\ttitle height=14pt \"stock close by month\";\n",
    "\tseries x=Date y=Close / group=Stock;\n",
    "\txaxis grid display=(nolabel);\n",
    "\tyaxis grid display=(nolabel);\n",
    "run;\n",
    "\n",
    "ods graphics / reset;\n",
    "title;\n",
    "\n",
    "proc datasets library=WORK noprint;\n",
    "\tdelete _SeriesPlotTaskData;\n",
    "\trun;\n",
    "\"\"\")"
   ]
  },
  {
   "cell_type": "code",
   "execution_count": 9,
   "metadata": {},
   "outputs": [],
   "source": [
    "### fitted curves \n"
   ]
  },
  {
   "cell_type": "code",
   "execution_count": null,
   "metadata": {},
   "outputs": [],
   "source": []
  },
  {
   "cell_type": "code",
   "execution_count": null,
   "metadata": {},
   "outputs": [],
   "source": []
  }
 ],
 "metadata": {
  "kernelspec": {
   "display_name": "Python 3",
   "language": "python",
   "name": "python3"
  },
  "language_info": {
   "codemirror_mode": {
    "name": "ipython",
    "version": 3
   },
   "file_extension": ".py",
   "mimetype": "text/x-python",
   "name": "python",
   "nbconvert_exporter": "python",
   "pygments_lexer": "ipython3",
   "version": "3.12.1"
  }
 },
 "nbformat": 4,
 "nbformat_minor": 2
}
