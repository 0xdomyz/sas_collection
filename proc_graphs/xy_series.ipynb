{
 "cells": [
  {
   "cell_type": "code",
   "execution_count": 1,
   "metadata": {},
   "outputs": [
    {
     "name": "stdout",
     "output_type": "stream",
     "text": [
      "Using SAS Config named: oda\n",
      "SAS Connection established. Subprocess id is 16816\n",
      "\n"
     ]
    }
   ],
   "source": [
    "import saspy\n",
    "sas = saspy.SASsession()"
   ]
  },
  {
   "cell_type": "code",
   "execution_count": 8,
   "metadata": {},
   "outputs": [],
   "source": [
    "sas.submitLST(\n",
    "f\"\"\"\n",
    "\n",
    "ods graphics / reset width=6in height=4in imagemap;\n",
    "\n",
    "proc sort data=SASHELP.STOCKS out=_SeriesPlotTaskData;\n",
    "\tby Date;\n",
    "run;\n",
    "\n",
    "proc sgplot data=_SeriesPlotTaskData;\n",
    "\ttitle height=14pt \"stock close by month\";\n",
    "\tseries x=Date y=Close / group=Stock;\n",
    "\txaxis grid display=(nolabel);\n",
    "\tyaxis grid display=(nolabel);\n",
    "run;\n",
    "\n",
    "ods graphics / reset;\n",
    "title;\n",
    "\n",
    "proc datasets library=WORK noprint;\n",
    "\tdelete _SeriesPlotTaskData;\n",
    "\trun;\n",
    "\"\"\")"
   ]
  },
  {
   "cell_type": "code",
   "execution_count": null,
   "metadata": {},
   "outputs": [],
   "source": []
  },
  {
   "cell_type": "code",
   "execution_count": null,
   "metadata": {},
   "outputs": [],
   "source": []
  }
 ],
 "metadata": {
  "kernelspec": {
   "display_name": "Python 3",
   "language": "python",
   "name": "python3"
  },
  "language_info": {
   "codemirror_mode": {
    "name": "ipython",
    "version": 3
   },
   "file_extension": ".py",
   "mimetype": "text/x-python",
   "name": "python",
   "nbconvert_exporter": "python",
   "pygments_lexer": "ipython3",
   "version": "3.12.1"
  }
 },
 "nbformat": 4,
 "nbformat_minor": 2
}
