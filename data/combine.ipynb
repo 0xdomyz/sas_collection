{
 "cells": [
  {
   "cell_type": "code",
   "execution_count": null,
   "metadata": {
    "vscode": {
     "languageId": "plaintext"
    }
   },
   "outputs": [],
   "source": [
    "modifying and combining\n",
    "- set statement\n",
    "- match merge \n",
    "- merging back\n",
    "- grand total\n",
    "- update with transactions\n",
    "- output statement\n",
    "- options\n",
    "- proc transpose\n",
    "- automatic variables\n"
   ]
  }
 ],
 "metadata": {
  "language_info": {
   "name": "python"
  }
 },
 "nbformat": 4,
 "nbformat_minor": 2
}
