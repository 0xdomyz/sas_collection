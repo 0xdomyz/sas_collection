{
 "cells": [
  {
   "cell_type": "code",
   "execution_count": null,
   "metadata": {
    "vscode": {
     "languageId": "plaintext"
    }
   },
   "outputs": [],
   "source": [
    "sorting printing summarizing\n",
    "- procedures \n",
    "- where statement \n",
    "- proc sort\n",
    "- proc print\n",
    "- formats\n",
    "- reports \n",
    "- proc means\n",
    "- writing summary statistics\n",
    "- proc freq \n",
    "- proc tabulate\n",
    "- proc report\n",
    "- grouping data"
   ]
  }
 ],
 "metadata": {
  "language_info": {
   "name": "python"
  }
 },
 "nbformat": 4,
 "nbformat_minor": 2
}
