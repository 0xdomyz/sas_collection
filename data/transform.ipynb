{
 "cells": [
  {
   "cell_type": "code",
   "execution_count": null,
   "metadata": {
    "vscode": {
     "languageId": "plaintext"
    }
   },
   "outputs": [],
   "source": [
    "working with data\n",
    "- character functions \n",
    "- numeric functions \n",
    "- if-then statements\n",
    "- if-then/else statements \n",
    "- subsetting\n",
    "- dates\n",
    "- retain and sum\n",
    "- arrays\n",
    "- lists of variable names\n"
   ]
  }
 ],
 "metadata": {
  "language_info": {
   "name": "python"
  }
 },
 "nbformat": 4,
 "nbformat_minor": 2
}
