{
 "cells": [
  {
   "cell_type": "code",
   "execution_count": 1,
   "metadata": {},
   "outputs": [
    {
     "name": "stdout",
     "output_type": "stream",
     "text": [
      "C:/Users/yzdom/.config/saspy/sascfg_personal.py\n"
     ]
    }
   ],
   "source": [
    "# find out where the sascfg.py file is located\n",
    "import saspy\n",
    "from pathlib import Path\n",
    "print(Path(saspy.SAScfg).as_posix())"
   ]
  },
  {
   "cell_type": "code",
   "execution_count": 6,
   "metadata": {},
   "outputs": [
    {
     "name": "stdout",
     "output_type": "stream",
     "text": [
      "C:/Users/yzdom/.config/saspy/sascfg_personal.py\n"
     ]
    }
   ],
   "source": [
    "# create personal saspy configuration file\n",
    "############################################\n",
    "\n",
    "# create the personal sascfg.py file\n",
    "sascfg_personal = Path.home() / \".config\" / \"saspy\" / \"sascfg_personal.py\"\n",
    "\n",
    "# write the sascfg_personal.py file, create the directory if it does not exist\n",
    "sascfg_personal.parent.mkdir(parents=True, exist_ok=True)\n",
    "\n",
    "# copy the sascfg.py file to the sascfg_personal.py file\n",
    "sascfg_personal.write_text(Path(saspy.SAScfg).read_text())\n",
    "\n",
    "# print the location of the sascfg_personal.py file\n",
    "print(sascfg_personal.as_posix())"
   ]
  },
  {
   "cell_type": "code",
   "execution_count": 2,
   "metadata": {},
   "outputs": [
    {
     "name": "stdout",
     "output_type": "stream",
     "text": [
      "The OS Error was:\n",
      "The system cannot find the file specified\n",
      "SAS Connection failed. No connection established. Double check your settings in sascfg_personal.py file.\n",
      "Attempted to run program java with the following parameters:['java', '-classpath', 'c:\\\\Users\\\\yzdom\\\\AppData\\\\Local\\\\Programs\\\\Python\\\\Python312\\\\Lib\\\\site-packages\\\\saspy\\\\java\\\\saspyiom.jar;c:\\\\Users\\\\yzdom\\\\AppData\\\\Local\\\\Programs\\\\Python\\\\Python312\\\\Lib\\\\site-packages\\\\saspy\\\\java\\\\iomclient\\\\log4j-1.2-api-2.12.4.jar;c:\\\\Users\\\\yzdom\\\\AppData\\\\Local\\\\Programs\\\\Python\\\\Python312\\\\Lib\\\\site-packages\\\\saspy\\\\java\\\\iomclient\\\\log4j-api-2.12.4.jar;c:\\\\Users\\\\yzdom\\\\AppData\\\\Local\\\\Programs\\\\Python\\\\Python312\\\\Lib\\\\site-packages\\\\saspy\\\\java\\\\iomclient\\\\log4j-core-2.12.4.jar;c:\\\\Users\\\\yzdom\\\\AppData\\\\Local\\\\Programs\\\\Python\\\\Python312\\\\Lib\\\\site-packages\\\\saspy\\\\java\\\\iomclient\\\\sas.security.sspi.jar;c:\\\\Users\\\\yzdom\\\\AppData\\\\Local\\\\Programs\\\\Python\\\\Python312\\\\Lib\\\\site-packages\\\\saspy\\\\java\\\\iomclient\\\\sas.core.jar;c:\\\\Users\\\\yzdom\\\\AppData\\\\Local\\\\Programs\\\\Python\\\\Python312\\\\Lib\\\\site-packages\\\\saspy\\\\java\\\\iomclient\\\\sas.svc.connection.jar;c:\\\\Users\\\\yzdom\\\\AppData\\\\Local\\\\Programs\\\\Python\\\\Python312\\\\Lib\\\\site-packages\\\\saspy\\\\java\\\\iomclient\\\\sas.rutil.jar;c:\\\\Users\\\\yzdom\\\\AppData\\\\Local\\\\Programs\\\\Python\\\\Python312\\\\Lib\\\\site-packages\\\\saspy\\\\java\\\\iomclient\\\\sas.rutil.nls.jar;c:\\\\Users\\\\yzdom\\\\AppData\\\\Local\\\\Programs\\\\Python\\\\Python312\\\\Lib\\\\site-packages\\\\saspy\\\\java\\\\iomclient\\\\sastpj.rutil.jar;c:\\\\Users\\\\yzdom\\\\AppData\\\\Local\\\\Programs\\\\Python\\\\Python312\\\\Lib\\\\site-packages\\\\saspy\\\\java\\\\thirdparty\\\\glassfish-corba-internal-api.jar;c:\\\\Users\\\\yzdom\\\\AppData\\\\Local\\\\Programs\\\\Python\\\\Python312\\\\Lib\\\\site-packages\\\\saspy\\\\java\\\\thirdparty\\\\glassfish-corba-omgapi.jar;c:\\\\Users\\\\yzdom\\\\AppData\\\\Local\\\\Programs\\\\Python\\\\Python312\\\\Lib\\\\site-packages\\\\saspy\\\\java\\\\thirdparty\\\\glassfish-corba-orb.jar;c:\\\\Users\\\\yzdom\\\\AppData\\\\Local\\\\Programs\\\\Python\\\\Python312\\\\Lib\\\\site-packages\\\\saspy\\\\java\\\\thirdparty\\\\pfl-basic.jar;c:\\\\Users\\\\yzdom\\\\AppData\\\\Local\\\\Programs\\\\Python\\\\Python312\\\\Lib\\\\site-packages\\\\saspy\\\\java\\\\thirdparty\\\\pfl-tf.jar', 'pyiom.saspy2j', '-host', 'localhost', '-stdinport', '52617', '-stdoutport', '52618', '-stderrport', '52619', '-iomhost', 'odaws01.oda.sas.com', '-iomport', '8591', '-user', 'yzdominic@outlook.com', '-lrecl', '1048576', '']\n",
      "If no OS Error above, try running the following command (where saspy is running) manually to see what is wrong:\n",
      "java -classpath \"c:\\Users\\yzdom\\AppData\\Local\\Programs\\Python\\Python312\\Lib\\site-packages\\saspy\\java\\saspyiom.jar;c:\\Users\\yzdom\\AppData\\Local\\Programs\\Python\\Python312\\Lib\\site-packages\\saspy\\java\\iomclient\\log4j-1.2-api-2.12.4.jar;c:\\Users\\yzdom\\AppData\\Local\\Programs\\Python\\Python312\\Lib\\site-packages\\saspy\\java\\iomclient\\log4j-api-2.12.4.jar;c:\\Users\\yzdom\\AppData\\Local\\Programs\\Python\\Python312\\Lib\\site-packages\\saspy\\java\\iomclient\\log4j-core-2.12.4.jar;c:\\Users\\yzdom\\AppData\\Local\\Programs\\Python\\Python312\\Lib\\site-packages\\saspy\\java\\iomclient\\sas.security.sspi.jar;c:\\Users\\yzdom\\AppData\\Local\\Programs\\Python\\Python312\\Lib\\site-packages\\saspy\\java\\iomclient\\sas.core.jar;c:\\Users\\yzdom\\AppData\\Local\\Programs\\Python\\Python312\\Lib\\site-packages\\saspy\\java\\iomclient\\sas.svc.connection.jar;c:\\Users\\yzdom\\AppData\\Local\\Programs\\Python\\Python312\\Lib\\site-packages\\saspy\\java\\iomclient\\sas.rutil.jar;c:\\Users\\yzdom\\AppData\\Local\\Programs\\Python\\Python312\\Lib\\site-packages\\saspy\\java\\iomclient\\sas.rutil.nls.jar;c:\\Users\\yzdom\\AppData\\Local\\Programs\\Python\\Python312\\Lib\\site-packages\\saspy\\java\\iomclient\\sastpj.rutil.jar;c:\\Users\\yzdom\\AppData\\Local\\Programs\\Python\\Python312\\Lib\\site-packages\\saspy\\java\\thirdparty\\glassfish-corba-internal-api.jar;c:\\Users\\yzdom\\AppData\\Local\\Programs\\Python\\Python312\\Lib\\site-packages\\saspy\\java\\thirdparty\\glassfish-corba-omgapi.jar;c:\\Users\\yzdom\\AppData\\Local\\Programs\\Python\\Python312\\Lib\\site-packages\\saspy\\java\\thirdparty\\glassfish-corba-orb.jar;c:\\Users\\yzdom\\AppData\\Local\\Programs\\Python\\Python312\\Lib\\site-packages\\saspy\\java\\thirdparty\\pfl-basic.jar;c:\\Users\\yzdom\\AppData\\Local\\Programs\\Python\\Python312\\Lib\\site-packages\\saspy\\java\\thirdparty\\pfl-tf.jar\" pyiom.saspy2j -host localhost -stdinport 52617 -stdoutport 52618 -stderrport 52619 -iomhost odaws01.oda.sas.com -iomport 8591 -user yzdominic@outlook.com -lrecl 1048576  \n",
      "\n",
      "No SAS process attached. SAS process has terminated unexpectedly.\n"
     ]
    },
    {
     "ename": "SASIOConnectionTerminated",
     "evalue": "No SAS process attached. SAS process has terminated unexpectedly.\n<class 'Exception'>",
     "output_type": "error",
     "traceback": [
      "\u001b[1;31m---------------------------------------------------------------------------\u001b[0m",
      "\u001b[1;31mSASIOConnectionTerminated\u001b[0m                 Traceback (most recent call last)",
      "Cell \u001b[1;32mIn[2], line 2\u001b[0m\n\u001b[0;32m      1\u001b[0m \u001b[38;5;28;01mimport\u001b[39;00m \u001b[38;5;21;01msaspy\u001b[39;00m\n\u001b[1;32m----> 2\u001b[0m sas \u001b[38;5;241m=\u001b[39m \u001b[43msaspy\u001b[49m\u001b[38;5;241;43m.\u001b[39;49m\u001b[43mSASsession\u001b[49m\u001b[43m(\u001b[49m\u001b[43mcfgname\u001b[49m\u001b[38;5;241;43m=\u001b[39;49m\u001b[38;5;124;43m'\u001b[39;49m\u001b[38;5;124;43moda\u001b[39;49m\u001b[38;5;124;43m'\u001b[39;49m\u001b[43m)\u001b[49m\n",
      "File \u001b[1;32mc:\\Users\\yzdom\\AppData\\Local\\Programs\\Python\\Python312\\Lib\\site-packages\\saspy\\sasbase.py:617\u001b[0m, in \u001b[0;36mSASsession.__init__\u001b[1;34m(self, **kwargs)\u001b[0m\n\u001b[0;32m    615\u001b[0m \u001b[38;5;28;01mif\u001b[39;00m enc \u001b[38;5;241m==\u001b[39m \u001b[38;5;124m'\u001b[39m\u001b[38;5;124m'\u001b[39m:\n\u001b[0;32m    616\u001b[0m    \u001b[38;5;28mself\u001b[39m\u001b[38;5;241m.\u001b[39m_io\u001b[38;5;241m.\u001b[39msascfg\u001b[38;5;241m.\u001b[39mencoding \u001b[38;5;241m=\u001b[39m \u001b[38;5;124m'\u001b[39m\u001b[38;5;124mutf_8\u001b[39m\u001b[38;5;124m'\u001b[39m\n\u001b[1;32m--> 617\u001b[0m res \u001b[38;5;241m=\u001b[39m \u001b[38;5;28;43mself\u001b[39;49m\u001b[38;5;241;43m.\u001b[39;49m\u001b[43m_io\u001b[49m\u001b[38;5;241;43m.\u001b[39;49m\u001b[43msubmit\u001b[49m\u001b[43m(\u001b[49m\u001b[43msysvars\u001b[49m\u001b[43m,\u001b[49m\u001b[43m \u001b[49m\u001b[38;5;124;43m\"\u001b[39;49m\u001b[38;5;124;43mtext\u001b[39;49m\u001b[38;5;124;43m\"\u001b[39;49m\u001b[43m)\u001b[49m[\u001b[38;5;124m'\u001b[39m\u001b[38;5;124mLOG\u001b[39m\u001b[38;5;124m'\u001b[39m]\n\u001b[0;32m    618\u001b[0m \u001b[38;5;28mself\u001b[39m\u001b[38;5;241m.\u001b[39m_io\u001b[38;5;241m.\u001b[39msascfg\u001b[38;5;241m.\u001b[39mencoding \u001b[38;5;241m=\u001b[39m enc\n\u001b[0;32m    620\u001b[0m vlist         \u001b[38;5;241m=\u001b[39m res\u001b[38;5;241m.\u001b[39mrpartition(\u001b[38;5;124m'\u001b[39m\u001b[38;5;124mSYSSCP=\u001b[39m\u001b[38;5;124m'\u001b[39m)\n",
      "File \u001b[1;32mc:\\Users\\yzdom\\AppData\\Local\\Programs\\Python\\Python312\\Lib\\site-packages\\saspy\\sasioiom.py:869\u001b[0m, in \u001b[0;36mSASsessionIOM.submit\u001b[1;34m(self, code, results, prompt, **kwargs)\u001b[0m\n\u001b[0;32m    867\u001b[0m    \u001b[38;5;66;03m#return dict(LOG=\"No SAS process attached. SAS process has terminated unexpectedly.\", LST='')\u001b[39;00m\n\u001b[0;32m    868\u001b[0m    logger\u001b[38;5;241m.\u001b[39mfatal(\u001b[38;5;124m\"\u001b[39m\u001b[38;5;124mNo SAS process attached. SAS process has terminated unexpectedly.\u001b[39m\u001b[38;5;124m\"\u001b[39m)\n\u001b[1;32m--> 869\u001b[0m    \u001b[38;5;28;01mraise\u001b[39;00m SASIOConnectionTerminated(\u001b[38;5;167;01mException\u001b[39;00m)\n\u001b[0;32m    871\u001b[0m \u001b[38;5;28;01mif\u001b[39;00m os\u001b[38;5;241m.\u001b[39mname \u001b[38;5;241m==\u001b[39m \u001b[38;5;124m'\u001b[39m\u001b[38;5;124mnt\u001b[39m\u001b[38;5;124m'\u001b[39m:\n\u001b[0;32m    872\u001b[0m    \u001b[38;5;28;01mtry\u001b[39;00m:\n",
      "\u001b[1;31mSASIOConnectionTerminated\u001b[0m: No SAS process attached. SAS process has terminated unexpectedly.\n<class 'Exception'>"
     ]
    }
   ],
   "source": [
    "import saspy\n",
    "sas = saspy.SASsession(cfgname='oda')"
   ]
  },
  {
   "cell_type": "code",
   "execution_count": null,
   "metadata": {},
   "outputs": [],
   "source": [
    "https://sassoftware.github.io/saspy/configuration.html#sas-iom-client-encryption-jars"
   ]
  },
  {
   "cell_type": "code",
   "execution_count": null,
   "metadata": {},
   "outputs": [],
   "source": []
  }
 ],
 "metadata": {
  "kernelspec": {
   "display_name": "Python 3",
   "language": "python",
   "name": "python3"
  },
  "language_info": {
   "codemirror_mode": {
    "name": "ipython",
    "version": 3
   },
   "file_extension": ".py",
   "mimetype": "text/x-python",
   "name": "python",
   "nbconvert_exporter": "python",
   "pygments_lexer": "ipython3",
   "version": "3.12.1"
  }
 },
 "nbformat": 4,
 "nbformat_minor": 2
}
