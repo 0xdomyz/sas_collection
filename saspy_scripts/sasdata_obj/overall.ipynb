{
 "cells": [
  {
   "cell_type": "code",
   "execution_count": 1,
   "metadata": {},
   "outputs": [
    {
     "name": "stdout",
     "output_type": "stream",
     "text": [
      "SAS Connection established. Subprocess id is 8964\n",
      "\n"
     ]
    }
   ],
   "source": [
    "import saspy\n",
    "sas = saspy.SASsession(cfgname='oda')\n",
    "# sas_html = saspy.SASsession(cfgname='oda', results='HTML')"
   ]
  },
  {
   "cell_type": "code",
   "execution_count": 3,
   "metadata": {
    "collapsed": false
   },
   "outputs": [],
   "source": [
    "cars = sas.sasdata('cars', libref='sashelp')"
   ]
  },
  {
   "cell_type": "markdown",
   "metadata": {},
   "source": [
    "### The sasdata class"
   ]
  },
  {
   "cell_type": "code",
   "execution_count": 46,
   "metadata": {
    "collapsed": false
   },
   "outputs": [
    {
     "name": "stdout",
     "output_type": "stream",
     "text": [
      "<class 'saspy.sasdata.SASdata'>\n"
     ]
    },
    {
     "data": {
      "text/plain": [
       "Libref  = sashelp\n",
       "Table   = cars\n",
       "Dsopts  = {}\n",
       "Results = Pandas"
      ]
     },
     "execution_count": 46,
     "metadata": {},
     "output_type": "execute_result"
    }
   ],
   "source": [
    "print(type(cars))\n",
    "cars"
   ]
  },
  {
   "cell_type": "code",
   "execution_count": 47,
   "metadata": {},
   "outputs": [
    {
     "name": "stdout",
     "output_type": "stream",
     "text": [
      "len(methods) = 40\n",
      "HTML        describe    libref      scatter     to_csv      \n",
      "add_vars    dsopts      means       score       to_df       \n",
      "append      engine      modify      series      to_df_CSV   \n",
      "assessModel head        obs         set_results to_df_DISK  \n",
      "bar         heatmap     partition   sort        to_frame    \n",
      "columnInfo  hist        rename      table       to_json     \n",
      "contents    impute      results     tabulate    top         \n",
      "delete      info        sas         tail        where       \n"
     ]
    }
   ],
   "source": [
    "methods = []\n",
    "for i in cars.__dir__():\n",
    "    if not i.startswith('_'):\n",
    "        methods.append(i)\n",
    "\n",
    "methods.sort()\n",
    "\n",
    "print(f\"{len(methods) = }\")\n",
    "\n",
    "import math\n",
    "\n",
    "def print_dir_style(lst, num_columns):\n",
    "    max_len = max(len(item) for item in lst)\n",
    "    num_rows = math.ceil(len(lst) / num_columns)\n",
    "\n",
    "    # Create a list of lists, where each sub-list is a column in the output\n",
    "    columns = [lst[i : i + num_rows] for i in range(0, len(lst), num_rows)]\n",
    "\n",
    "    # Pad each string in each column to the max length so they line up correctly\n",
    "    for col in columns:\n",
    "        for i in range(len(col)):\n",
    "            col[i] = col[i].ljust(max_len)\n",
    "\n",
    "    # Print each row\n",
    "    for i in range(num_rows):\n",
    "        for col in columns:\n",
    "            if i < len(col):\n",
    "                print(col[i], end=\" \")\n",
    "        print()\n",
    "\n",
    "print_dir_style(methods, 5)"
   ]
  }
 ],
 "metadata": {
  "kernelspec": {
   "display_name": "Python 3",
   "language": "python",
   "name": "python3"
  },
  "language_info": {
   "codemirror_mode": {
    "name": "ipython",
    "version": 3
   },
   "file_extension": ".py",
   "mimetype": "text/x-python",
   "name": "python",
   "nbconvert_exporter": "python",
   "pygments_lexer": "ipython3",
   "version": "3.12.1"
  }
 },
 "nbformat": 4,
 "nbformat_minor": 2
}
