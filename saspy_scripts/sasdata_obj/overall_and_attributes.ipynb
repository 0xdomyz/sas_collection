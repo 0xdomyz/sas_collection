{
 "cells": [
  {
   "cell_type": "code",
   "execution_count": 1,
   "metadata": {},
   "outputs": [
    {
     "name": "stdout",
     "output_type": "stream",
     "text": [
      "SAS Connection established. Subprocess id is 18068\n",
      "\n"
     ]
    }
   ],
   "source": [
    "import saspy\n",
    "sas = saspy.SASsession(cfgname='oda')\n",
    "# sas_html = saspy.SASsession(cfgname='oda', results='HTML')"
   ]
  },
  {
   "cell_type": "code",
   "execution_count": 10,
   "metadata": {},
   "outputs": [],
   "source": [
    "import pandas as pd\n",
    "import numpy as np"
   ]
  },
  {
   "cell_type": "code",
   "execution_count": 2,
   "metadata": {
    "collapsed": false
   },
   "outputs": [],
   "source": [
    "cars = sas.sasdata('cars', libref='sashelp')"
   ]
  },
  {
   "cell_type": "markdown",
   "metadata": {},
   "source": [
    "### The sasdata class"
   ]
  },
  {
   "cell_type": "code",
   "execution_count": 46,
   "metadata": {
    "collapsed": false
   },
   "outputs": [
    {
     "name": "stdout",
     "output_type": "stream",
     "text": [
      "<class 'saspy.sasdata.SASdata'>\n"
     ]
    },
    {
     "data": {
      "text/plain": [
       "Libref  = sashelp\n",
       "Table   = cars\n",
       "Dsopts  = {}\n",
       "Results = Pandas"
      ]
     },
     "execution_count": 46,
     "metadata": {},
     "output_type": "execute_result"
    }
   ],
   "source": [
    "print(type(cars))\n",
    "cars"
   ]
  },
  {
   "cell_type": "code",
   "execution_count": 47,
   "metadata": {},
   "outputs": [
    {
     "name": "stdout",
     "output_type": "stream",
     "text": [
      "len(methods) = 40\n",
      "HTML        describe    libref      scatter     to_csv      \n",
      "add_vars    dsopts      means       score       to_df       \n",
      "append      engine      modify      series      to_df_CSV   \n",
      "assessModel head        obs         set_results to_df_DISK  \n",
      "bar         heatmap     partition   sort        to_frame    \n",
      "columnInfo  hist        rename      table       to_json     \n",
      "contents    impute      results     tabulate    top         \n",
      "delete      info        sas         tail        where       \n"
     ]
    }
   ],
   "source": [
    "methods = []\n",
    "for i in cars.__dir__():\n",
    "    if not i.startswith('_'):\n",
    "        methods.append(i)\n",
    "\n",
    "methods.sort()\n",
    "\n",
    "print(f\"{len(methods) = }\")\n",
    "\n",
    "import math\n",
    "\n",
    "def print_dir_style(lst, num_columns):\n",
    "    max_len = max(len(item) for item in lst)\n",
    "    num_rows = math.ceil(len(lst) / num_columns)\n",
    "\n",
    "    # Create a list of lists, where each sub-list is a column in the output\n",
    "    columns = [lst[i : i + num_rows] for i in range(0, len(lst), num_rows)]\n",
    "\n",
    "    # Pad each string in each column to the max length so they line up correctly\n",
    "    for col in columns:\n",
    "        for i in range(len(col)):\n",
    "            col[i] = col[i].ljust(max_len)\n",
    "\n",
    "    # Print each row\n",
    "    for i in range(num_rows):\n",
    "        for col in columns:\n",
    "            if i < len(col):\n",
    "                print(col[i], end=\" \")\n",
    "        print()\n",
    "\n",
    "print_dir_style(methods, 5)"
   ]
  },
  {
   "cell_type": "code",
   "execution_count": null,
   "metadata": {},
   "outputs": [],
   "source": []
  },
  {
   "cell_type": "code",
   "execution_count": null,
   "metadata": {},
   "outputs": [],
   "source": []
  },
  {
   "cell_type": "code",
   "execution_count": 29,
   "metadata": {},
   "outputs": [
    {
     "name": "stdout",
     "output_type": "stream",
     "text": [
      "No event was specified for a nominal target. Here are possible options:\n",
      "\n"
     ]
    },
    {
     "name": "stderr",
     "output_type": "stream",
     "text": [
      "c:\\Users\\yzdom\\AppData\\Local\\Programs\\Python\\Python312\\Lib\\site-packages\\saspy\\sasioiom.py:1056: UserWarning: Noticed 'ERROR:' in LOG, you ought to take a look and see if there was a problem\n",
      "  warnings.warn(\"Noticed 'ERROR:' in LOG, you ought to take a look and see if there was a problem\")\n"
     ]
    },
    {
     "data": {
      "text/plain": [
       "<saspy.sasresults.SASresults at 0x2b403a74920>"
      ]
     },
     "execution_count": 29,
     "metadata": {},
     "output_type": "execute_result"
    }
   ],
   "source": [
    "cars.assessModel(target = \"msrp\", prediction=\"invoice\")"
   ]
  },
  {
   "cell_type": "code",
   "execution_count": 42,
   "metadata": {},
   "outputs": [
    {
     "data": {
      "text/plain": [
       "dict"
      ]
     },
     "execution_count": 42,
     "metadata": {},
     "output_type": "execute_result"
    }
   ],
   "source": [
    "res = cars.contents()\n",
    "type(res)"
   ]
  },
  {
   "cell_type": "code",
   "execution_count": 44,
   "metadata": {},
   "outputs": [
    {
     "data": {
      "text/html": [
       "<div>\n",
       "<style scoped>\n",
       "    .dataframe tbody tr th:only-of-type {\n",
       "        vertical-align: middle;\n",
       "    }\n",
       "\n",
       "    .dataframe tbody tr th {\n",
       "        vertical-align: top;\n",
       "    }\n",
       "\n",
       "    .dataframe thead th {\n",
       "        text-align: right;\n",
       "    }\n",
       "</style>\n",
       "<table border=\"1\" class=\"dataframe\">\n",
       "  <thead>\n",
       "    <tr style=\"text-align: right;\">\n",
       "      <th></th>\n",
       "      <th>Member</th>\n",
       "      <th>Label1</th>\n",
       "      <th>cValue1</th>\n",
       "      <th>nValue1</th>\n",
       "      <th>Label2</th>\n",
       "      <th>cValue2</th>\n",
       "      <th>nValue2</th>\n",
       "    </tr>\n",
       "  </thead>\n",
       "  <tbody>\n",
       "    <tr>\n",
       "      <th>0</th>\n",
       "      <td>SASHELP.CARS</td>\n",
       "      <td>Data Set Name</td>\n",
       "      <td>SASHELP.CARS</td>\n",
       "      <td>NaN</td>\n",
       "      <td>Observations</td>\n",
       "      <td>428</td>\n",
       "      <td>428.0</td>\n",
       "    </tr>\n",
       "    <tr>\n",
       "      <th>1</th>\n",
       "      <td>SASHELP.CARS</td>\n",
       "      <td>Member Type</td>\n",
       "      <td>DATA</td>\n",
       "      <td>NaN</td>\n",
       "      <td>Variables</td>\n",
       "      <td>15</td>\n",
       "      <td>15.0</td>\n",
       "    </tr>\n",
       "    <tr>\n",
       "      <th>2</th>\n",
       "      <td>SASHELP.CARS</td>\n",
       "      <td>Engine</td>\n",
       "      <td>V9</td>\n",
       "      <td>NaN</td>\n",
       "      <td>Indexes</td>\n",
       "      <td>0</td>\n",
       "      <td>0.0</td>\n",
       "    </tr>\n",
       "    <tr>\n",
       "      <th>3</th>\n",
       "      <td>SASHELP.CARS</td>\n",
       "      <td>Created</td>\n",
       "      <td>08/06/2020 01:11:21</td>\n",
       "      <td>1.912295e+09</td>\n",
       "      <td>Observation Length</td>\n",
       "      <td>152</td>\n",
       "      <td>152.0</td>\n",
       "    </tr>\n",
       "    <tr>\n",
       "      <th>4</th>\n",
       "      <td>SASHELP.CARS</td>\n",
       "      <td>Last Modified</td>\n",
       "      <td>08/06/2020 01:11:21</td>\n",
       "      <td>1.912295e+09</td>\n",
       "      <td>Deleted Observations</td>\n",
       "      <td>0</td>\n",
       "      <td>0.0</td>\n",
       "    </tr>\n",
       "    <tr>\n",
       "      <th>5</th>\n",
       "      <td>SASHELP.CARS</td>\n",
       "      <td>Protection</td>\n",
       "      <td>NaN</td>\n",
       "      <td>NaN</td>\n",
       "      <td>Compressed</td>\n",
       "      <td>NO</td>\n",
       "      <td>NaN</td>\n",
       "    </tr>\n",
       "    <tr>\n",
       "      <th>6</th>\n",
       "      <td>SASHELP.CARS</td>\n",
       "      <td>Data Set Type</td>\n",
       "      <td>NaN</td>\n",
       "      <td>NaN</td>\n",
       "      <td>Sorted</td>\n",
       "      <td>YES</td>\n",
       "      <td>NaN</td>\n",
       "    </tr>\n",
       "    <tr>\n",
       "      <th>7</th>\n",
       "      <td>SASHELP.CARS</td>\n",
       "      <td>Label</td>\n",
       "      <td>2004 Car Data</td>\n",
       "      <td>NaN</td>\n",
       "      <td>NaN</td>\n",
       "      <td>NaN</td>\n",
       "      <td>0.0</td>\n",
       "    </tr>\n",
       "    <tr>\n",
       "      <th>8</th>\n",
       "      <td>SASHELP.CARS</td>\n",
       "      <td>Data Representation</td>\n",
       "      <td>SOLARIS_X86_64, LINUX_X86_64, ALPHA_TRU64, LIN...</td>\n",
       "      <td>NaN</td>\n",
       "      <td>NaN</td>\n",
       "      <td>NaN</td>\n",
       "      <td>0.0</td>\n",
       "    </tr>\n",
       "    <tr>\n",
       "      <th>9</th>\n",
       "      <td>SASHELP.CARS</td>\n",
       "      <td>Encoding</td>\n",
       "      <td>us-ascii  ASCII (ANSI)</td>\n",
       "      <td>NaN</td>\n",
       "      <td>NaN</td>\n",
       "      <td>NaN</td>\n",
       "      <td>0.0</td>\n",
       "    </tr>\n",
       "  </tbody>\n",
       "</table>\n",
       "</div>"
      ],
      "text/plain": [
       "         Member               Label1  \\\n",
       "0  SASHELP.CARS        Data Set Name   \n",
       "1  SASHELP.CARS          Member Type   \n",
       "2  SASHELP.CARS               Engine   \n",
       "3  SASHELP.CARS              Created   \n",
       "4  SASHELP.CARS        Last Modified   \n",
       "5  SASHELP.CARS           Protection   \n",
       "6  SASHELP.CARS        Data Set Type   \n",
       "7  SASHELP.CARS                Label   \n",
       "8  SASHELP.CARS  Data Representation   \n",
       "9  SASHELP.CARS             Encoding   \n",
       "\n",
       "                                             cValue1       nValue1  \\\n",
       "0                                       SASHELP.CARS           NaN   \n",
       "1                                               DATA           NaN   \n",
       "2                                                 V9           NaN   \n",
       "3                                08/06/2020 01:11:21  1.912295e+09   \n",
       "4                                08/06/2020 01:11:21  1.912295e+09   \n",
       "5                                                NaN           NaN   \n",
       "6                                                NaN           NaN   \n",
       "7                                      2004 Car Data           NaN   \n",
       "8  SOLARIS_X86_64, LINUX_X86_64, ALPHA_TRU64, LIN...           NaN   \n",
       "9                             us-ascii  ASCII (ANSI)           NaN   \n",
       "\n",
       "                 Label2 cValue2  nValue2  \n",
       "0          Observations     428    428.0  \n",
       "1             Variables      15     15.0  \n",
       "2               Indexes       0      0.0  \n",
       "3    Observation Length     152    152.0  \n",
       "4  Deleted Observations       0      0.0  \n",
       "5            Compressed      NO      NaN  \n",
       "6                Sorted     YES      NaN  \n",
       "7                   NaN     NaN      0.0  \n",
       "8                   NaN     NaN      0.0  \n",
       "9                   NaN     NaN      0.0  "
      ]
     },
     "execution_count": 44,
     "metadata": {},
     "output_type": "execute_result"
    }
   ],
   "source": [
    "res['Attributes']"
   ]
  },
  {
   "cell_type": "code",
   "execution_count": 45,
   "metadata": {},
   "outputs": [
    {
     "data": {
      "text/html": [
       "<div>\n",
       "<style scoped>\n",
       "    .dataframe tbody tr th:only-of-type {\n",
       "        vertical-align: middle;\n",
       "    }\n",
       "\n",
       "    .dataframe tbody tr th {\n",
       "        vertical-align: top;\n",
       "    }\n",
       "\n",
       "    .dataframe thead th {\n",
       "        text-align: right;\n",
       "    }\n",
       "</style>\n",
       "<table border=\"1\" class=\"dataframe\">\n",
       "  <thead>\n",
       "    <tr style=\"text-align: right;\">\n",
       "      <th></th>\n",
       "      <th>Member</th>\n",
       "      <th>Label1</th>\n",
       "      <th>cValue1</th>\n",
       "      <th>nValue1</th>\n",
       "    </tr>\n",
       "  </thead>\n",
       "  <tbody>\n",
       "    <tr>\n",
       "      <th>0</th>\n",
       "      <td>SASHELP.CARS</td>\n",
       "      <td>Data Set Page Size</td>\n",
       "      <td>65536</td>\n",
       "      <td>65536.0</td>\n",
       "    </tr>\n",
       "    <tr>\n",
       "      <th>1</th>\n",
       "      <td>SASHELP.CARS</td>\n",
       "      <td>Number of Data Set Pages</td>\n",
       "      <td>2</td>\n",
       "      <td>2.0</td>\n",
       "    </tr>\n",
       "    <tr>\n",
       "      <th>2</th>\n",
       "      <td>SASHELP.CARS</td>\n",
       "      <td>First Data Page</td>\n",
       "      <td>1</td>\n",
       "      <td>1.0</td>\n",
       "    </tr>\n",
       "    <tr>\n",
       "      <th>3</th>\n",
       "      <td>SASHELP.CARS</td>\n",
       "      <td>Max Obs per Page</td>\n",
       "      <td>430</td>\n",
       "      <td>430.0</td>\n",
       "    </tr>\n",
       "    <tr>\n",
       "      <th>4</th>\n",
       "      <td>SASHELP.CARS</td>\n",
       "      <td>Obs in First Data Page</td>\n",
       "      <td>405</td>\n",
       "      <td>405.0</td>\n",
       "    </tr>\n",
       "    <tr>\n",
       "      <th>5</th>\n",
       "      <td>SASHELP.CARS</td>\n",
       "      <td>Number of Data Set Repairs</td>\n",
       "      <td>0</td>\n",
       "      <td>0.0</td>\n",
       "    </tr>\n",
       "    <tr>\n",
       "      <th>6</th>\n",
       "      <td>SASHELP.CARS</td>\n",
       "      <td>Filename</td>\n",
       "      <td>/pbr/sfw/sas/940/SASFoundation/9.4/sashelp/car...</td>\n",
       "      <td>NaN</td>\n",
       "    </tr>\n",
       "    <tr>\n",
       "      <th>7</th>\n",
       "      <td>SASHELP.CARS</td>\n",
       "      <td>Release Created</td>\n",
       "      <td>9.0401M7</td>\n",
       "      <td>NaN</td>\n",
       "    </tr>\n",
       "    <tr>\n",
       "      <th>8</th>\n",
       "      <td>SASHELP.CARS</td>\n",
       "      <td>Host Created</td>\n",
       "      <td>Linux</td>\n",
       "      <td>NaN</td>\n",
       "    </tr>\n",
       "    <tr>\n",
       "      <th>9</th>\n",
       "      <td>SASHELP.CARS</td>\n",
       "      <td>Inode Number</td>\n",
       "      <td>134530653</td>\n",
       "      <td>134530653.0</td>\n",
       "    </tr>\n",
       "    <tr>\n",
       "      <th>10</th>\n",
       "      <td>SASHELP.CARS</td>\n",
       "      <td>Access Permission</td>\n",
       "      <td>rw-r--r--</td>\n",
       "      <td>NaN</td>\n",
       "    </tr>\n",
       "    <tr>\n",
       "      <th>11</th>\n",
       "      <td>SASHELP.CARS</td>\n",
       "      <td>Owner Name</td>\n",
       "      <td>odaowner</td>\n",
       "      <td>NaN</td>\n",
       "    </tr>\n",
       "    <tr>\n",
       "      <th>12</th>\n",
       "      <td>SASHELP.CARS</td>\n",
       "      <td>File Size</td>\n",
       "      <td>192KB</td>\n",
       "      <td>NaN</td>\n",
       "    </tr>\n",
       "    <tr>\n",
       "      <th>13</th>\n",
       "      <td>SASHELP.CARS</td>\n",
       "      <td>File Size (bytes)</td>\n",
       "      <td>196608</td>\n",
       "      <td>196608.0</td>\n",
       "    </tr>\n",
       "  </tbody>\n",
       "</table>\n",
       "</div>"
      ],
      "text/plain": [
       "          Member                      Label1  \\\n",
       "0   SASHELP.CARS          Data Set Page Size   \n",
       "1   SASHELP.CARS    Number of Data Set Pages   \n",
       "2   SASHELP.CARS             First Data Page   \n",
       "3   SASHELP.CARS            Max Obs per Page   \n",
       "4   SASHELP.CARS      Obs in First Data Page   \n",
       "5   SASHELP.CARS  Number of Data Set Repairs   \n",
       "6   SASHELP.CARS                    Filename   \n",
       "7   SASHELP.CARS             Release Created   \n",
       "8   SASHELP.CARS                Host Created   \n",
       "9   SASHELP.CARS                Inode Number   \n",
       "10  SASHELP.CARS           Access Permission   \n",
       "11  SASHELP.CARS                  Owner Name   \n",
       "12  SASHELP.CARS                   File Size   \n",
       "13  SASHELP.CARS           File Size (bytes)   \n",
       "\n",
       "                                              cValue1      nValue1  \n",
       "0                                               65536      65536.0  \n",
       "1                                                   2          2.0  \n",
       "2                                                   1          1.0  \n",
       "3                                                 430        430.0  \n",
       "4                                                 405        405.0  \n",
       "5                                                   0          0.0  \n",
       "6   /pbr/sfw/sas/940/SASFoundation/9.4/sashelp/car...          NaN  \n",
       "7                                            9.0401M7          NaN  \n",
       "8                                               Linux          NaN  \n",
       "9                                           134530653  134530653.0  \n",
       "10                                          rw-r--r--          NaN  \n",
       "11                                           odaowner          NaN  \n",
       "12                                              192KB          NaN  \n",
       "13                                             196608     196608.0  "
      ]
     },
     "execution_count": 45,
     "metadata": {},
     "output_type": "execute_result"
    }
   ],
   "source": [
    "res['Enginehost']"
   ]
  },
  {
   "cell_type": "code",
   "execution_count": 46,
   "metadata": {},
   "outputs": [
    {
     "data": {
      "text/html": [
       "<div>\n",
       "<style scoped>\n",
       "    .dataframe tbody tr th:only-of-type {\n",
       "        vertical-align: middle;\n",
       "    }\n",
       "\n",
       "    .dataframe tbody tr th {\n",
       "        vertical-align: top;\n",
       "    }\n",
       "\n",
       "    .dataframe thead th {\n",
       "        text-align: right;\n",
       "    }\n",
       "</style>\n",
       "<table border=\"1\" class=\"dataframe\">\n",
       "  <thead>\n",
       "    <tr style=\"text-align: right;\">\n",
       "      <th></th>\n",
       "      <th>Member</th>\n",
       "      <th>Num</th>\n",
       "      <th>Variable</th>\n",
       "      <th>Type</th>\n",
       "      <th>Len</th>\n",
       "      <th>Pos</th>\n",
       "      <th>Format</th>\n",
       "      <th>Label</th>\n",
       "    </tr>\n",
       "  </thead>\n",
       "  <tbody>\n",
       "    <tr>\n",
       "      <th>0</th>\n",
       "      <td>SASHELP.CARS</td>\n",
       "      <td>9.0</td>\n",
       "      <td>Cylinders</td>\n",
       "      <td>Num</td>\n",
       "      <td>8.0</td>\n",
       "      <td>24.0</td>\n",
       "      <td>NaN</td>\n",
       "      <td>NaN</td>\n",
       "    </tr>\n",
       "    <tr>\n",
       "      <th>1</th>\n",
       "      <td>SASHELP.CARS</td>\n",
       "      <td>5.0</td>\n",
       "      <td>DriveTrain</td>\n",
       "      <td>Char</td>\n",
       "      <td>5.0</td>\n",
       "      <td>147.0</td>\n",
       "      <td>NaN</td>\n",
       "      <td>NaN</td>\n",
       "    </tr>\n",
       "    <tr>\n",
       "      <th>2</th>\n",
       "      <td>SASHELP.CARS</td>\n",
       "      <td>8.0</td>\n",
       "      <td>EngineSize</td>\n",
       "      <td>Num</td>\n",
       "      <td>8.0</td>\n",
       "      <td>16.0</td>\n",
       "      <td>NaN</td>\n",
       "      <td>Engine Size (L)</td>\n",
       "    </tr>\n",
       "    <tr>\n",
       "      <th>3</th>\n",
       "      <td>SASHELP.CARS</td>\n",
       "      <td>10.0</td>\n",
       "      <td>Horsepower</td>\n",
       "      <td>Num</td>\n",
       "      <td>8.0</td>\n",
       "      <td>32.0</td>\n",
       "      <td>NaN</td>\n",
       "      <td>NaN</td>\n",
       "    </tr>\n",
       "    <tr>\n",
       "      <th>4</th>\n",
       "      <td>SASHELP.CARS</td>\n",
       "      <td>7.0</td>\n",
       "      <td>Invoice</td>\n",
       "      <td>Num</td>\n",
       "      <td>8.0</td>\n",
       "      <td>8.0</td>\n",
       "      <td>DOLLAR8.</td>\n",
       "      <td>NaN</td>\n",
       "    </tr>\n",
       "    <tr>\n",
       "      <th>5</th>\n",
       "      <td>SASHELP.CARS</td>\n",
       "      <td>15.0</td>\n",
       "      <td>Length</td>\n",
       "      <td>Num</td>\n",
       "      <td>8.0</td>\n",
       "      <td>72.0</td>\n",
       "      <td>NaN</td>\n",
       "      <td>Length (IN)</td>\n",
       "    </tr>\n",
       "    <tr>\n",
       "      <th>6</th>\n",
       "      <td>SASHELP.CARS</td>\n",
       "      <td>11.0</td>\n",
       "      <td>MPG_City</td>\n",
       "      <td>Num</td>\n",
       "      <td>8.0</td>\n",
       "      <td>40.0</td>\n",
       "      <td>NaN</td>\n",
       "      <td>MPG (City)</td>\n",
       "    </tr>\n",
       "    <tr>\n",
       "      <th>7</th>\n",
       "      <td>SASHELP.CARS</td>\n",
       "      <td>12.0</td>\n",
       "      <td>MPG_Highway</td>\n",
       "      <td>Num</td>\n",
       "      <td>8.0</td>\n",
       "      <td>48.0</td>\n",
       "      <td>NaN</td>\n",
       "      <td>MPG (Highway)</td>\n",
       "    </tr>\n",
       "    <tr>\n",
       "      <th>8</th>\n",
       "      <td>SASHELP.CARS</td>\n",
       "      <td>6.0</td>\n",
       "      <td>MSRP</td>\n",
       "      <td>Num</td>\n",
       "      <td>8.0</td>\n",
       "      <td>0.0</td>\n",
       "      <td>DOLLAR8.</td>\n",
       "      <td>NaN</td>\n",
       "    </tr>\n",
       "    <tr>\n",
       "      <th>9</th>\n",
       "      <td>SASHELP.CARS</td>\n",
       "      <td>1.0</td>\n",
       "      <td>Make</td>\n",
       "      <td>Char</td>\n",
       "      <td>13.0</td>\n",
       "      <td>80.0</td>\n",
       "      <td>NaN</td>\n",
       "      <td>NaN</td>\n",
       "    </tr>\n",
       "    <tr>\n",
       "      <th>10</th>\n",
       "      <td>SASHELP.CARS</td>\n",
       "      <td>2.0</td>\n",
       "      <td>Model</td>\n",
       "      <td>Char</td>\n",
       "      <td>40.0</td>\n",
       "      <td>93.0</td>\n",
       "      <td>NaN</td>\n",
       "      <td>NaN</td>\n",
       "    </tr>\n",
       "    <tr>\n",
       "      <th>11</th>\n",
       "      <td>SASHELP.CARS</td>\n",
       "      <td>4.0</td>\n",
       "      <td>Origin</td>\n",
       "      <td>Char</td>\n",
       "      <td>6.0</td>\n",
       "      <td>141.0</td>\n",
       "      <td>NaN</td>\n",
       "      <td>NaN</td>\n",
       "    </tr>\n",
       "    <tr>\n",
       "      <th>12</th>\n",
       "      <td>SASHELP.CARS</td>\n",
       "      <td>3.0</td>\n",
       "      <td>Type</td>\n",
       "      <td>Char</td>\n",
       "      <td>8.0</td>\n",
       "      <td>133.0</td>\n",
       "      <td>NaN</td>\n",
       "      <td>NaN</td>\n",
       "    </tr>\n",
       "    <tr>\n",
       "      <th>13</th>\n",
       "      <td>SASHELP.CARS</td>\n",
       "      <td>13.0</td>\n",
       "      <td>Weight</td>\n",
       "      <td>Num</td>\n",
       "      <td>8.0</td>\n",
       "      <td>56.0</td>\n",
       "      <td>NaN</td>\n",
       "      <td>Weight (LBS)</td>\n",
       "    </tr>\n",
       "    <tr>\n",
       "      <th>14</th>\n",
       "      <td>SASHELP.CARS</td>\n",
       "      <td>14.0</td>\n",
       "      <td>Wheelbase</td>\n",
       "      <td>Num</td>\n",
       "      <td>8.0</td>\n",
       "      <td>64.0</td>\n",
       "      <td>NaN</td>\n",
       "      <td>Wheelbase (IN)</td>\n",
       "    </tr>\n",
       "  </tbody>\n",
       "</table>\n",
       "</div>"
      ],
      "text/plain": [
       "          Member   Num     Variable  Type   Len    Pos    Format  \\\n",
       "0   SASHELP.CARS   9.0    Cylinders   Num   8.0   24.0       NaN   \n",
       "1   SASHELP.CARS   5.0   DriveTrain  Char   5.0  147.0       NaN   \n",
       "2   SASHELP.CARS   8.0   EngineSize   Num   8.0   16.0       NaN   \n",
       "3   SASHELP.CARS  10.0   Horsepower   Num   8.0   32.0       NaN   \n",
       "4   SASHELP.CARS   7.0      Invoice   Num   8.0    8.0  DOLLAR8.   \n",
       "5   SASHELP.CARS  15.0       Length   Num   8.0   72.0       NaN   \n",
       "6   SASHELP.CARS  11.0     MPG_City   Num   8.0   40.0       NaN   \n",
       "7   SASHELP.CARS  12.0  MPG_Highway   Num   8.0   48.0       NaN   \n",
       "8   SASHELP.CARS   6.0         MSRP   Num   8.0    0.0  DOLLAR8.   \n",
       "9   SASHELP.CARS   1.0         Make  Char  13.0   80.0       NaN   \n",
       "10  SASHELP.CARS   2.0        Model  Char  40.0   93.0       NaN   \n",
       "11  SASHELP.CARS   4.0       Origin  Char   6.0  141.0       NaN   \n",
       "12  SASHELP.CARS   3.0         Type  Char   8.0  133.0       NaN   \n",
       "13  SASHELP.CARS  13.0       Weight   Num   8.0   56.0       NaN   \n",
       "14  SASHELP.CARS  14.0    Wheelbase   Num   8.0   64.0       NaN   \n",
       "\n",
       "              Label  \n",
       "0               NaN  \n",
       "1               NaN  \n",
       "2   Engine Size (L)  \n",
       "3               NaN  \n",
       "4               NaN  \n",
       "5       Length (IN)  \n",
       "6        MPG (City)  \n",
       "7     MPG (Highway)  \n",
       "8               NaN  \n",
       "9               NaN  \n",
       "10              NaN  \n",
       "11              NaN  \n",
       "12              NaN  \n",
       "13     Weight (LBS)  \n",
       "14   Wheelbase (IN)  "
      ]
     },
     "execution_count": 46,
     "metadata": {},
     "output_type": "execute_result"
    }
   ],
   "source": [
    "res['Variables']"
   ]
  },
  {
   "cell_type": "code",
   "execution_count": 47,
   "metadata": {},
   "outputs": [
    {
     "data": {
      "text/html": [
       "<div>\n",
       "<style scoped>\n",
       "    .dataframe tbody tr th:only-of-type {\n",
       "        vertical-align: middle;\n",
       "    }\n",
       "\n",
       "    .dataframe tbody tr th {\n",
       "        vertical-align: top;\n",
       "    }\n",
       "\n",
       "    .dataframe thead th {\n",
       "        text-align: right;\n",
       "    }\n",
       "</style>\n",
       "<table border=\"1\" class=\"dataframe\">\n",
       "  <thead>\n",
       "    <tr style=\"text-align: right;\">\n",
       "      <th></th>\n",
       "      <th>Member</th>\n",
       "      <th>Label1</th>\n",
       "      <th>cValue1</th>\n",
       "      <th>nValue1</th>\n",
       "    </tr>\n",
       "  </thead>\n",
       "  <tbody>\n",
       "    <tr>\n",
       "      <th>0</th>\n",
       "      <td>SASHELP.CARS</td>\n",
       "      <td>Sortedby</td>\n",
       "      <td>Make Type</td>\n",
       "      <td>NaN</td>\n",
       "    </tr>\n",
       "    <tr>\n",
       "      <th>1</th>\n",
       "      <td>SASHELP.CARS</td>\n",
       "      <td>Validated</td>\n",
       "      <td>YES</td>\n",
       "      <td>NaN</td>\n",
       "    </tr>\n",
       "    <tr>\n",
       "      <th>2</th>\n",
       "      <td>SASHELP.CARS</td>\n",
       "      <td>Character Set</td>\n",
       "      <td>ANSI</td>\n",
       "      <td>NaN</td>\n",
       "    </tr>\n",
       "  </tbody>\n",
       "</table>\n",
       "</div>"
      ],
      "text/plain": [
       "         Member         Label1    cValue1  nValue1\n",
       "0  SASHELP.CARS       Sortedby  Make Type      NaN\n",
       "1  SASHELP.CARS      Validated        YES      NaN\n",
       "2  SASHELP.CARS  Character Set       ANSI      NaN"
      ]
     },
     "execution_count": 47,
     "metadata": {},
     "output_type": "execute_result"
    }
   ],
   "source": [
    "res['Sortedby']"
   ]
  },
  {
   "cell_type": "code",
   "execution_count": null,
   "metadata": {},
   "outputs": [],
   "source": [
    "wkcars.delete()"
   ]
  },
  {
   "cell_type": "code",
   "execution_count": null,
   "metadata": {},
   "outputs": [],
   "source": [
    "engine"
   ]
  },
  {
   "cell_type": "code",
   "execution_count": null,
   "metadata": {},
   "outputs": [],
   "source": [
    "impute"
   ]
  },
  {
   "cell_type": "code",
   "execution_count": null,
   "metadata": {},
   "outputs": [],
   "source": [
    "modify"
   ]
  },
  {
   "cell_type": "code",
   "execution_count": null,
   "metadata": {},
   "outputs": [],
   "source": [
    "partition"
   ]
  },
  {
   "cell_type": "code",
   "execution_count": null,
   "metadata": {},
   "outputs": [],
   "source": [
    "rename"
   ]
  },
  {
   "cell_type": "code",
   "execution_count": null,
   "metadata": {},
   "outputs": [],
   "source": [
    "results"
   ]
  },
  {
   "cell_type": "code",
   "execution_count": null,
   "metadata": {},
   "outputs": [],
   "source": [
    "series"
   ]
  },
  {
   "cell_type": "code",
   "execution_count": null,
   "metadata": {},
   "outputs": [],
   "source": [
    "set_results"
   ]
  },
  {
   "cell_type": "code",
   "execution_count": null,
   "metadata": {},
   "outputs": [],
   "source": [
    "sort"
   ]
  },
  {
   "cell_type": "code",
   "execution_count": null,
   "metadata": {},
   "outputs": [],
   "source": [
    "table"
   ]
  },
  {
   "cell_type": "code",
   "execution_count": null,
   "metadata": {},
   "outputs": [],
   "source": [
    "tabulate"
   ]
  },
  {
   "cell_type": "code",
   "execution_count": null,
   "metadata": {},
   "outputs": [],
   "source": [
    "where"
   ]
  }
 ],
 "metadata": {
  "kernelspec": {
   "display_name": "Python 3",
   "language": "python",
   "name": "python3"
  },
  "language_info": {
   "codemirror_mode": {
    "name": "ipython",
    "version": 3
   },
   "file_extension": ".py",
   "mimetype": "text/x-python",
   "name": "python",
   "nbconvert_exporter": "python",
   "pygments_lexer": "ipython3",
   "version": "3.12.1"
  }
 },
 "nbformat": 4,
 "nbformat_minor": 2
}
