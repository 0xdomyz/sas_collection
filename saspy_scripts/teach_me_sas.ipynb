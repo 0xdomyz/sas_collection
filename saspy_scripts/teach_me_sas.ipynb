{
 "cells": [
  {
   "cell_type": "markdown",
   "metadata": {},
   "source": [
    "## Now, let's learn a little SAS. With teach_me_SAS, any of the methods that run code will show you the code instead of running it. This way you can cut-n-paste it into a sas.submit() method and change it around and play with syntax and try your own version of code."
   ]
  },
  {
   "cell_type": "code",
   "execution_count": null,
   "metadata": {},
   "outputs": [],
   "source": [
    "sas.teach_me_SAS(True)"
   ]
  },
  {
   "cell_type": "code",
   "execution_count": null,
   "metadata": {},
   "outputs": [
    {
     "name": "stdout",
     "output_type": "stream",
     "text": [
      "proc sgplot data=WORK.'sales'n ;\n",
      "\ttitle \"total vs. predicted sales\";\n",
      "\tseries x='month'n y='tot_sales'n;\n",
      "\tseries x='month'n y='predicted_sales'n;\n",
      "run;\n",
      "title;\n"
     ]
    }
   ],
   "source": [
    "sales.series(y=['tot_sales','predicted_sales'], x='month', title='total vs. predicted sales')"
   ]
  },
  {
   "cell_type": "code",
   "execution_count": null,
   "metadata": {},
   "outputs": [
    {
     "name": "stdout",
     "output_type": "stream",
     "text": [
      "%macro proccall(d);\n",
      "proc timeid data=sashelp.'cars'n  plot=all  ;\n",
      "id horsepower;\n",
      "run; quit; %mend;\n",
      "%mangobj(tim0003,timeid,'cars'n);\n"
     ]
    }
   ],
   "source": [
    "ets_results = ets.timeid(id='horsepower', data=cars)"
   ]
  },
  {
   "cell_type": "code",
   "execution_count": null,
   "metadata": {},
   "outputs": [
    {
     "name": "stdout",
     "output_type": "stream",
     "text": [
      "%macro proccall(d);\n",
      "proc reg data=sashelp.'cars'n  plot=all  ;\n",
      "model horsepower = Cylinders EngineSize;\n",
      "run; quit; %mend;\n",
      "%mangobj(reg0004,reg,'cars'n);\n"
     ]
    }
   ],
   "source": [
    "stat_results = stat.reg(model='horsepower = Cylinders EngineSize', data=cars)"
   ]
  },
  {
   "cell_type": "code",
   "execution_count": null,
   "metadata": {},
   "outputs": [
    {
     "name": "stdout",
     "output_type": "stream",
     "text": [
      "proc means data=sashelp.'cars'n  stackodsoutput n nmiss median mean std min p25 p50 p75 max;run;\n"
     ]
    }
   ],
   "source": [
    "cars.describe()"
   ]
  },
  {
   "cell_type": "code",
   "execution_count": null,
   "metadata": {},
   "outputs": [
    {
     "name": "stdout",
     "output_type": "stream",
     "text": [
      "proc print data=sashelp.'cars'n (obs=428 firstobs=405 );run;\n"
     ]
    }
   ],
   "source": [
    "cars.tail(24)"
   ]
  },
  {
   "cell_type": "code",
   "execution_count": null,
   "metadata": {},
   "outputs": [],
   "source": [
    "sas.teach_me_SAS(False)"
   ]
  },
  {
   "cell_type": "code",
   "execution_count": null,
   "metadata": {},
   "outputs": [],
   "source": []
  },
  {
   "cell_type": "code",
   "execution_count": null,
   "metadata": {
    "vscode": {
     "languageId": "plaintext"
    }
   },
   "outputs": [],
   "source": []
  },
  {
   "cell_type": "code",
   "execution_count": null,
   "metadata": {
    "vscode": {
     "languageId": "plaintext"
    }
   },
   "outputs": [],
   "source": []
  }
 ],
 "metadata": {
  "kernelspec": {
   "display_name": "Python 3",
   "language": "python",
   "name": "python3"
  },
  "language_info": {
   "codemirror_mode": {
    "name": "ipython",
    "version": 3
   },
   "file_extension": ".py",
   "mimetype": "text/x-python",
   "name": "python",
   "nbconvert_exporter": "python",
   "pygments_lexer": "ipython3",
   "version": "3.12.1"
  }
 },
 "nbformat": 4,
 "nbformat_minor": 2
}
