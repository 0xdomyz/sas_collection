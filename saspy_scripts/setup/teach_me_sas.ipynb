{
 "cells": [
  {
   "cell_type": "code",
   "execution_count": 22,
   "metadata": {},
   "outputs": [
    {
     "name": "stdout",
     "output_type": "stream",
     "text": [
      "SAS Connection established. Subprocess id is 10220\n",
      "\n"
     ]
    }
   ],
   "source": [
    "import saspy\n",
    "sas = saspy.SASsession(cfgname='oda')"
   ]
  },
  {
   "cell_type": "code",
   "execution_count": 23,
   "metadata": {},
   "outputs": [],
   "source": [
    "sas.teach_me_SAS(True)"
   ]
  },
  {
   "cell_type": "code",
   "execution_count": 25,
   "metadata": {},
   "outputs": [],
   "source": [
    "cars = sas.sasdata('cars', libref='sashelp')"
   ]
  },
  {
   "cell_type": "code",
   "execution_count": 26,
   "metadata": {},
   "outputs": [],
   "source": [
    "ets = sas.sasets()"
   ]
  },
  {
   "cell_type": "code",
   "execution_count": 27,
   "metadata": {},
   "outputs": [
    {
     "name": "stdout",
     "output_type": "stream",
     "text": [
      "%macro proccall(d);\n",
      "proc timeid data=sashelp.'cars'n  plots=all  ;\n",
      "id horsepower;\n",
      "run; quit; %mend;\n",
      "%mangobj1(tim0001,timeid,'cars'n);\n"
     ]
    }
   ],
   "source": [
    "ets_results = ets.timeid(id='horsepower', data=cars)"
   ]
  },
  {
   "cell_type": "code",
   "execution_count": 28,
   "metadata": {},
   "outputs": [
    {
     "name": "stdout",
     "output_type": "stream",
     "text": [
      "%macro proccall(d);\n",
      "proc reg data=sashelp.'cars'n  plots=all  ;\n",
      "model horsepower = Cylinders EngineSize;\n",
      "run; quit; %mend;\n",
      "%mangobj1(reg0002,reg,'cars'n);\n"
     ]
    }
   ],
   "source": [
    "stat = sas.sasstat()\n",
    "stat_results = stat.reg(model='horsepower = Cylinders EngineSize',data=cars)"
   ]
  },
  {
   "cell_type": "code",
   "execution_count": 29,
   "metadata": {},
   "outputs": [
    {
     "name": "stdout",
     "output_type": "stream",
     "text": [
      "proc sql; create table sales as select month, sum(actual) as tot_sales, sum(predict) as predicted_sales from sashelp.prdsale group by 1 order by month ;quit;\n",
      "Table WORK.sales does not exist. This SASdata object will not be useful until the data set is created.\n"
     ]
    }
   ],
   "source": [
    "sas.submitLOG('proc sql; create table sales as select month, sum(actual) as tot_sales, sum(predict) as predicted_sales from sashelp.prdsale group by 1 order by month ;quit;')\n",
    "sales = sas.sasdata('sales')"
   ]
  },
  {
   "cell_type": "code",
   "execution_count": 30,
   "metadata": {},
   "outputs": [
    {
     "name": "stdout",
     "output_type": "stream",
     "text": [
      "proc sgplot data=WORK.'sales'n ;\n",
      "\ttitle \"total vs. predicted sales\";\n",
      "\tseries x='month'n y='tot_sales'n;\n",
      "\tseries x='month'n y='predicted_sales'n;\n",
      "run;\n",
      "title;\n"
     ]
    }
   ],
   "source": [
    "sales.series(y=['tot_sales','predicted_sales'], x='month', title='total vs. predicted sales')"
   ]
  },
  {
   "cell_type": "code",
   "execution_count": 31,
   "metadata": {},
   "outputs": [
    {
     "name": "stdout",
     "output_type": "stream",
     "text": [
      "%macro proccall(d);\n",
      "proc timeid data=sashelp.'cars'n  plots=all  ;\n",
      "id horsepower;\n",
      "run; quit; %mend;\n",
      "%mangobj1(tim0003,timeid,'cars'n);\n"
     ]
    }
   ],
   "source": [
    "ets_results = ets.timeid(id='horsepower', data=cars)"
   ]
  },
  {
   "cell_type": "code",
   "execution_count": 32,
   "metadata": {},
   "outputs": [
    {
     "name": "stdout",
     "output_type": "stream",
     "text": [
      "%macro proccall(d);\n",
      "proc reg data=sashelp.'cars'n  plots=all  ;\n",
      "model horsepower = Cylinders EngineSize;\n",
      "run; quit; %mend;\n",
      "%mangobj1(reg0004,reg,'cars'n);\n"
     ]
    }
   ],
   "source": [
    "stat_results = stat.reg(model='horsepower = Cylinders EngineSize', data=cars)"
   ]
  },
  {
   "cell_type": "code",
   "execution_count": 33,
   "metadata": {},
   "outputs": [
    {
     "name": "stdout",
     "output_type": "stream",
     "text": [
      "proc means data=sashelp.'cars'n  stackodsoutput n nmiss median mean std min p25 p50 p75 max;run;\n"
     ]
    }
   ],
   "source": [
    "cars.describe()"
   ]
  },
  {
   "cell_type": "code",
   "execution_count": 34,
   "metadata": {},
   "outputs": [
    {
     "name": "stdout",
     "output_type": "stream",
     "text": [
      "proc print data=sashelp.'cars'n (obs=428 firstobs=405 );run;\n"
     ]
    }
   ],
   "source": [
    "cars.tail(24)"
   ]
  },
  {
   "cell_type": "code",
   "execution_count": 35,
   "metadata": {},
   "outputs": [],
   "source": [
    "sas.teach_me_SAS(False)"
   ]
  },
  {
   "cell_type": "code",
   "execution_count": null,
   "metadata": {},
   "outputs": [],
   "source": []
  }
 ],
 "metadata": {
  "kernelspec": {
   "display_name": "Python 3",
   "language": "python",
   "name": "python3"
  },
  "language_info": {
   "codemirror_mode": {
    "name": "ipython",
    "version": 3
   },
   "file_extension": ".py",
   "mimetype": "text/x-python",
   "name": "python",
   "nbconvert_exporter": "python",
   "pygments_lexer": "ipython3",
   "version": "3.12.1"
  }
 },
 "nbformat": 4,
 "nbformat_minor": 2
}
