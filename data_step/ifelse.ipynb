{
 "cells": [
  {
   "cell_type": "code",
   "execution_count": 3,
   "metadata": {},
   "outputs": [
    {
     "name": "stdout",
     "output_type": "stream",
     "text": [
      "SAS Connection established. Subprocess id is 9308\n",
      "\n"
     ]
    }
   ],
   "source": [
    "import saspy\n",
    "sas = saspy.SASsession(colorLOG=True)"
   ]
  },
  {
   "cell_type": "code",
   "execution_count": null,
   "metadata": {},
   "outputs": [],
   "source": [
    "sas.submitLST(f\"\"\"\n",
    "/* conditional */\n",
    "data bmi_groups;\n",
    "    set sashelp.heart;\n",
    "    BMI = weight / (height**2) * 703;\n",
    "    length bmi_range $ 30;\n",
    "    keep weight height bmi bmi_range;\n",
    "\n",
    "    if BMI < 18.5 then bmi_range = \"Underweight\";\n",
    "    else if BMI < 25 and BMI >= 18.5 then bmi_range = \"Normal\";\n",
    "    else if BMI < 30 then bmi_range = \"Overweight\";\n",
    "    else bmi_range = \"Obese\";\n",
    "run;\n",
    "\n",
    "proc freq data=bmi_groups;\n",
    "    tables bmi_range;\n",
    "    title \"Frequency Distribution of BMI Ranges\";\n",
    "run;\n",
    "\n",
    "/* output to table within condition */\n",
    "data bmi_high bmi_low;\n",
    "    set sashelp.heart;\n",
    "    length bmi_range $ 30;\n",
    "    keep weight height bmi bmi_range;\n",
    "    bmi = weight / (height**2) * 703;\n",
    "\n",
    "    /* multiple statements */\n",
    "    if bmi < 18.5 then do;\n",
    "        bmi_range = \"Underweight\";\n",
    "        output bmi_low;\n",
    "    end;\n",
    "    else if bmi >= 30 then do;\n",
    "        bmi_range = \"Obese\";\n",
    "        output bmi_high;\n",
    "    end;\n",
    "run;\n",
    "\n",
    "/* print out count of records in high and low tables */\n",
    "proc sql;\n",
    "    select count(*) as count_of_underweight from bmi_low;\n",
    "    select count(*) as count_of_obese from bmi_high;\n",
    "quit;\n",
    "run;\n",
    "\"\"\")\n",
    "\n"
   ]
  }
 ],
 "metadata": {
  "kernelspec": {
   "display_name": "Python 3",
   "language": "python",
   "name": "python3"
  },
  "language_info": {
   "codemirror_mode": {
    "name": "ipython",
    "version": 3
   },
   "file_extension": ".py",
   "mimetype": "text/x-python",
   "name": "python",
   "nbconvert_exporter": "python",
   "pygments_lexer": "ipython3",
   "version": "3.12.1"
  }
 },
 "nbformat": 4,
 "nbformat_minor": 2
}
